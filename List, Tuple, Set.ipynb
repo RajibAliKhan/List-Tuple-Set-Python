{
 "cells": [
  {
   "cell_type": "code",
   "execution_count": 3,
   "id": "59663209-7cd4-465e-b9ec-de99dd2d5cc3",
   "metadata": {},
   "outputs": [],
   "source": [
    "l = [4,445,545, \"rajib\", True, 5+8j, 56.564]"
   ]
  },
  {
   "cell_type": "code",
   "execution_count": 4,
   "id": "7aa93ab1-44a2-4bd4-b678-bbc8427b7171",
   "metadata": {},
   "outputs": [
    {
     "data": {
      "text/plain": [
       "list"
      ]
     },
     "execution_count": 4,
     "metadata": {},
     "output_type": "execute_result"
    }
   ],
   "source": [
    "type(l)"
   ]
  },
  {
   "cell_type": "code",
   "execution_count": 5,
   "id": "c4c9a3b4-6291-4dd1-9dff-72f329a7362e",
   "metadata": {},
   "outputs": [
    {
     "data": {
      "text/plain": [
       "[4]"
      ]
     },
     "execution_count": 5,
     "metadata": {},
     "output_type": "execute_result"
    }
   ],
   "source": [
    "l[0:1]"
   ]
  },
  {
   "cell_type": "code",
   "execution_count": 6,
   "id": "9848fd46-7c56-4377-9d48-c744378afc4d",
   "metadata": {},
   "outputs": [
    {
     "data": {
      "text/plain": [
       "True"
      ]
     },
     "execution_count": 6,
     "metadata": {},
     "output_type": "execute_result"
    }
   ],
   "source": [
    "l[4]"
   ]
  },
  {
   "cell_type": "code",
   "execution_count": 7,
   "id": "9321e02b-111a-4052-83ee-6efb7b386743",
   "metadata": {},
   "outputs": [
    {
     "data": {
      "text/plain": [
       "4"
      ]
     },
     "execution_count": 7,
     "metadata": {},
     "output_type": "execute_result"
    }
   ],
   "source": [
    "l[0]"
   ]
  },
  {
   "cell_type": "code",
   "execution_count": 8,
   "id": "1f057ecb-5023-447e-a93b-316a84a1cbd4",
   "metadata": {},
   "outputs": [
    {
     "ename": "IndexError",
     "evalue": "list index out of range",
     "output_type": "error",
     "traceback": [
      "\u001b[0;31m---------------------------------------------------------------------------\u001b[0m",
      "\u001b[0;31mIndexError\u001b[0m                                Traceback (most recent call last)",
      "Cell \u001b[0;32mIn[8], line 1\u001b[0m\n\u001b[0;32m----> 1\u001b[0m \u001b[43ml\u001b[49m\u001b[43m[\u001b[49m\u001b[38;5;241;43m90\u001b[39;49m\u001b[43m]\u001b[49m\n",
      "\u001b[0;31mIndexError\u001b[0m: list index out of range"
     ]
    }
   ],
   "source": [
    "l[90]"
   ]
  },
  {
   "cell_type": "code",
   "execution_count": 9,
   "id": "75a13bf6-512b-466d-9924-333fd4382b45",
   "metadata": {},
   "outputs": [
    {
     "data": {
      "text/plain": [
       "56.564"
      ]
     },
     "execution_count": 9,
     "metadata": {},
     "output_type": "execute_result"
    }
   ],
   "source": [
    "l[6]"
   ]
  },
  {
   "cell_type": "code",
   "execution_count": 10,
   "id": "e5ab1c6d-38a9-47d4-b3a5-e54731105bbe",
   "metadata": {},
   "outputs": [
    {
     "data": {
      "text/plain": [
       "[445, 545, 'rajib', True, (5+8j)]"
      ]
     },
     "execution_count": 10,
     "metadata": {},
     "output_type": "execute_result"
    }
   ],
   "source": [
    "l[1:6:]"
   ]
  },
  {
   "cell_type": "code",
   "execution_count": 11,
   "id": "0484395b-4168-48e8-b48f-04db9704fe6c",
   "metadata": {},
   "outputs": [],
   "source": [
    "l = [4,445,545, \"rajib\", True, 5+8j, 56.564]"
   ]
  },
  {
   "cell_type": "code",
   "execution_count": 12,
   "id": "acfebc0f-7921-40dd-a905-98a32705a6a7",
   "metadata": {},
   "outputs": [
    {
     "data": {
      "text/plain": [
       "[4, 445, 545]"
      ]
     },
     "execution_count": 12,
     "metadata": {},
     "output_type": "execute_result"
    }
   ],
   "source": [
    "l[0:3]"
   ]
  },
  {
   "cell_type": "code",
   "execution_count": 13,
   "id": "964f6878-914e-4b12-8832-07d5870276de",
   "metadata": {},
   "outputs": [
    {
     "data": {
      "text/plain": [
       "56.564"
      ]
     },
     "execution_count": 13,
     "metadata": {},
     "output_type": "execute_result"
    }
   ],
   "source": [
    "l[-1]"
   ]
  },
  {
   "cell_type": "code",
   "execution_count": 14,
   "id": "a888913c-d3e2-4138-b5f1-4c229d2c86e9",
   "metadata": {},
   "outputs": [
    {
     "data": {
      "text/plain": [
       "[56.564, (5+8j), True, 'rajib', 545, 445, 4]"
      ]
     },
     "execution_count": 14,
     "metadata": {},
     "output_type": "execute_result"
    }
   ],
   "source": [
    "l[::-1]"
   ]
  },
  {
   "cell_type": "code",
   "execution_count": 15,
   "id": "03f27048-7fac-45b7-acdf-885e1efb123f",
   "metadata": {},
   "outputs": [
    {
     "data": {
      "text/plain": [
       "[4, 545, True, 56.564]"
      ]
     },
     "execution_count": 15,
     "metadata": {},
     "output_type": "execute_result"
    }
   ],
   "source": [
    "l[0:7:2]"
   ]
  },
  {
   "cell_type": "code",
   "execution_count": 16,
   "id": "c70e46d0-ca77-4965-97a9-1dc9e988e894",
   "metadata": {},
   "outputs": [
    {
     "data": {
      "text/plain": [
       "[]"
      ]
     },
     "execution_count": 16,
     "metadata": {},
     "output_type": "execute_result"
    }
   ],
   "source": [
    "l[0:7:-1]"
   ]
  },
  {
   "cell_type": "code",
   "execution_count": 17,
   "id": "b161cb59-f685-4c03-8cdb-be1be39c473e",
   "metadata": {},
   "outputs": [],
   "source": [
    "s = \"pwskills\""
   ]
  },
  {
   "cell_type": "code",
   "execution_count": 18,
   "id": "2cc2aabc-33d8-4bcf-950e-356088140521",
   "metadata": {},
   "outputs": [
    {
     "ename": "TypeError",
     "evalue": "can only concatenate list (not \"str\") to list",
     "output_type": "error",
     "traceback": [
      "\u001b[0;31m---------------------------------------------------------------------------\u001b[0m",
      "\u001b[0;31mTypeError\u001b[0m                                 Traceback (most recent call last)",
      "Cell \u001b[0;32mIn[18], line 1\u001b[0m\n\u001b[0;32m----> 1\u001b[0m \u001b[43ml\u001b[49m\u001b[43m \u001b[49m\u001b[38;5;241;43m+\u001b[39;49m\u001b[43m \u001b[49m\u001b[43ms\u001b[49m\n",
      "\u001b[0;31mTypeError\u001b[0m: can only concatenate list (not \"str\") to list"
     ]
    }
   ],
   "source": [
    "l + s"
   ]
  },
  {
   "cell_type": "code",
   "execution_count": 19,
   "id": "3034b3e7-f00a-4146-8fc6-e84d3a942054",
   "metadata": {},
   "outputs": [
    {
     "data": {
      "text/plain": [
       "['p', 'w', 's', 'k', 'i', 'l', 'l', 's']"
      ]
     },
     "execution_count": 19,
     "metadata": {},
     "output_type": "execute_result"
    }
   ],
   "source": [
    "list(s)"
   ]
  },
  {
   "cell_type": "code",
   "execution_count": 20,
   "id": "fdb10113-595b-4c75-9c28-f15fa45ffc75",
   "metadata": {},
   "outputs": [
    {
     "data": {
      "text/plain": [
       "[4, 445, 545, 'rajib', True, (5+8j), 56.564]"
      ]
     },
     "execution_count": 20,
     "metadata": {},
     "output_type": "execute_result"
    }
   ],
   "source": [
    "list(l)"
   ]
  },
  {
   "cell_type": "code",
   "execution_count": 22,
   "id": "a97cb333-bc1f-4059-a78f-145fdca559c1",
   "metadata": {},
   "outputs": [
    {
     "data": {
      "text/plain": [
       "['p',\n",
       " 'w',\n",
       " 's',\n",
       " 'k',\n",
       " 'i',\n",
       " 'l',\n",
       " 'l',\n",
       " 's',\n",
       " 4,\n",
       " 445,\n",
       " 545,\n",
       " 'rajib',\n",
       " True,\n",
       " (5+8j),\n",
       " 56.564]"
      ]
     },
     "execution_count": 22,
     "metadata": {},
     "output_type": "execute_result"
    }
   ],
   "source": [
    "list(s) + l"
   ]
  },
  {
   "cell_type": "code",
   "execution_count": 23,
   "id": "6b1f14e2-642d-4083-9e62-6fa5d9618cce",
   "metadata": {},
   "outputs": [],
   "source": [
    "l = [4,445,545, \"rajib\", True, 5+8j, 56.564]"
   ]
  },
  {
   "cell_type": "code",
   "execution_count": 24,
   "id": "906e8114-0e56-472f-8059-438ef72051e6",
   "metadata": {},
   "outputs": [
    {
     "data": {
      "text/plain": [
       "'rajib'"
      ]
     },
     "execution_count": 24,
     "metadata": {},
     "output_type": "execute_result"
    }
   ],
   "source": [
    "l[3]"
   ]
  },
  {
   "cell_type": "code",
   "execution_count": 25,
   "id": "17d57e4a-cac2-45fd-bd16-aca5a27d2261",
   "metadata": {},
   "outputs": [
    {
     "data": {
      "text/plain": [
       "'raj'"
      ]
     },
     "execution_count": 25,
     "metadata": {},
     "output_type": "execute_result"
    }
   ],
   "source": [
    "l[3][0:3]"
   ]
  },
  {
   "cell_type": "code",
   "execution_count": 26,
   "id": "d7915f92-94be-4b95-839d-01ebc7107592",
   "metadata": {},
   "outputs": [
    {
     "data": {
      "text/plain": [
       "True"
      ]
     },
     "execution_count": 26,
     "metadata": {},
     "output_type": "execute_result"
    }
   ],
   "source": [
    "l[4]"
   ]
  },
  {
   "cell_type": "code",
   "execution_count": 27,
   "id": "ca68d910-e45e-4b46-88fb-73873b583a7e",
   "metadata": {},
   "outputs": [
    {
     "ename": "TypeError",
     "evalue": "'bool' object is not subscriptable",
     "output_type": "error",
     "traceback": [
      "\u001b[0;31m---------------------------------------------------------------------------\u001b[0m",
      "\u001b[0;31mTypeError\u001b[0m                                 Traceback (most recent call last)",
      "Cell \u001b[0;32mIn[27], line 1\u001b[0m\n\u001b[0;32m----> 1\u001b[0m \u001b[43ml\u001b[49m\u001b[43m[\u001b[49m\u001b[38;5;241;43m4\u001b[39;49m\u001b[43m]\u001b[49m\u001b[43m[\u001b[49m\u001b[38;5;241;43m0\u001b[39;49m\u001b[43m:\u001b[49m\u001b[38;5;241;43m3\u001b[39;49m\u001b[43m]\u001b[49m\n",
      "\u001b[0;31mTypeError\u001b[0m: 'bool' object is not subscriptable"
     ]
    }
   ],
   "source": [
    "l[4][0:3]"
   ]
  },
  {
   "cell_type": "code",
   "execution_count": 29,
   "id": "0cd49e81-674a-48a8-9178-111b8f2dc70a",
   "metadata": {},
   "outputs": [
    {
     "data": {
      "text/plain": [
       "'Tr'"
      ]
     },
     "execution_count": 29,
     "metadata": {},
     "output_type": "execute_result"
    }
   ],
   "source": [
    "str(l[4])[0:2]"
   ]
  },
  {
   "cell_type": "code",
   "execution_count": 30,
   "id": "6c659372-ac4e-455e-9581-4088b8cf4b49",
   "metadata": {},
   "outputs": [],
   "source": [
    "l = [4,445,545, \"rajib\", True, 5+8j, 56.564]"
   ]
  },
  {
   "cell_type": "code",
   "execution_count": 31,
   "id": "af0be880-6bfa-4f5f-bdc2-37b103c6efad",
   "metadata": {},
   "outputs": [
    {
     "ename": "TypeError",
     "evalue": "can only concatenate list (not \"int\") to list",
     "output_type": "error",
     "traceback": [
      "\u001b[0;31m---------------------------------------------------------------------------\u001b[0m",
      "\u001b[0;31mTypeError\u001b[0m                                 Traceback (most recent call last)",
      "Cell \u001b[0;32mIn[31], line 1\u001b[0m\n\u001b[0;32m----> 1\u001b[0m \u001b[43ml\u001b[49m\u001b[43m \u001b[49m\u001b[38;5;241;43m+\u001b[39;49m\u001b[43m \u001b[49m\u001b[38;5;241;43m5\u001b[39;49m\n",
      "\u001b[0;31mTypeError\u001b[0m: can only concatenate list (not \"int\") to list"
     ]
    }
   ],
   "source": [
    "l + 5"
   ]
  },
  {
   "cell_type": "code",
   "execution_count": 32,
   "id": "4ea942e2-5f57-4f0f-bce3-45f486228704",
   "metadata": {},
   "outputs": [],
   "source": [
    "l1 = [3,5,6]"
   ]
  },
  {
   "cell_type": "code",
   "execution_count": 33,
   "id": "cfece1ce-1211-4fa0-981c-267a9c308bf7",
   "metadata": {},
   "outputs": [
    {
     "data": {
      "text/plain": [
       "[4, 445, 545, 'rajib', True, (5+8j), 56.564, 3, 5, 6]"
      ]
     },
     "execution_count": 33,
     "metadata": {},
     "output_type": "execute_result"
    }
   ],
   "source": [
    "l+l1"
   ]
  },
  {
   "cell_type": "code",
   "execution_count": 34,
   "id": "5db2ccdc-e4ff-4d48-8817-b62f687b7f6c",
   "metadata": {},
   "outputs": [
    {
     "data": {
      "text/plain": [
       "[3, 5, 6, 3, 5, 6, 3, 5, 6]"
      ]
     },
     "execution_count": 34,
     "metadata": {},
     "output_type": "execute_result"
    }
   ],
   "source": [
    "l1 * 3"
   ]
  },
  {
   "cell_type": "code",
   "execution_count": 35,
   "id": "3e3de946-e5ff-4b6e-9f0d-231ecdad19f5",
   "metadata": {},
   "outputs": [],
   "source": [
    "l2 = \"rajib\""
   ]
  },
  {
   "cell_type": "code",
   "execution_count": 36,
   "id": "7f0f6e5e-1ecf-4880-b1e5-2c26439a4093",
   "metadata": {},
   "outputs": [
    {
     "data": {
      "text/plain": [
       "'rajibrajib'"
      ]
     },
     "execution_count": 36,
     "metadata": {},
     "output_type": "execute_result"
    }
   ],
   "source": [
    "l2 * 2"
   ]
  },
  {
   "cell_type": "code",
   "execution_count": 37,
   "id": "3e23979d-e9f2-4e59-a628-c1ef8a207c02",
   "metadata": {},
   "outputs": [
    {
     "data": {
      "text/plain": [
       "[4, 445, 545, 'rajib', True, (5+8j), 56.564]"
      ]
     },
     "execution_count": 37,
     "metadata": {},
     "output_type": "execute_result"
    }
   ],
   "source": [
    "l"
   ]
  },
  {
   "cell_type": "code",
   "execution_count": 38,
   "id": "97208a9e-fdb6-41c6-80f8-a86c9e8dce2c",
   "metadata": {},
   "outputs": [
    {
     "data": {
      "text/plain": [
       "7"
      ]
     },
     "execution_count": 38,
     "metadata": {},
     "output_type": "execute_result"
    }
   ],
   "source": [
    "len(l)"
   ]
  },
  {
   "cell_type": "code",
   "execution_count": 40,
   "id": "b2885c50-e0a6-426b-961c-c333747bafbd",
   "metadata": {},
   "outputs": [],
   "source": [
    "l = [4,445,545, \"rajib\", True, 5+8j, 56.564]"
   ]
  },
  {
   "cell_type": "code",
   "execution_count": 42,
   "id": "4ea0c3fe-ab96-4ac6-a1bf-7cdcf2f836d8",
   "metadata": {},
   "outputs": [
    {
     "data": {
      "text/plain": [
       "[4, 445, 545, 'rajib', True, (5+8j), 56.564, 5]"
      ]
     },
     "execution_count": 42,
     "metadata": {},
     "output_type": "execute_result"
    }
   ],
   "source": [
    "l"
   ]
  },
  {
   "cell_type": "code",
   "execution_count": 43,
   "id": "a3de9d83-831f-4321-b45e-2c8e894c65a1",
   "metadata": {},
   "outputs": [],
   "source": [
    "l.append(10)"
   ]
  },
  {
   "cell_type": "code",
   "execution_count": 44,
   "id": "a453e9ca-332f-49b1-bac6-cfa4a031b251",
   "metadata": {},
   "outputs": [
    {
     "data": {
      "text/plain": [
       "[4, 445, 545, 'rajib', True, (5+8j), 56.564, 5, 10]"
      ]
     },
     "execution_count": 44,
     "metadata": {},
     "output_type": "execute_result"
    }
   ],
   "source": [
    "l"
   ]
  },
  {
   "cell_type": "code",
   "execution_count": 45,
   "id": "ac99dcf5-69ff-4ba0-a0ee-d0ed7f87b63e",
   "metadata": {},
   "outputs": [
    {
     "data": {
      "text/plain": [
       "'pwskills'"
      ]
     },
     "execution_count": 45,
     "metadata": {},
     "output_type": "execute_result"
    }
   ],
   "source": [
    "s"
   ]
  },
  {
   "cell_type": "code",
   "execution_count": 46,
   "id": "ada15185-65e7-4b1e-a9d8-8c265d7c92cd",
   "metadata": {},
   "outputs": [],
   "source": [
    "l.append(s)"
   ]
  },
  {
   "cell_type": "code",
   "execution_count": 47,
   "id": "d67bb500-231d-4e72-adca-f6234d21b45b",
   "metadata": {},
   "outputs": [
    {
     "data": {
      "text/plain": [
       "[4, 445, 545, 'rajib', True, (5+8j), 56.564, 5, 10, 'pwskills']"
      ]
     },
     "execution_count": 47,
     "metadata": {},
     "output_type": "execute_result"
    }
   ],
   "source": [
    "l"
   ]
  },
  {
   "cell_type": "code",
   "execution_count": 48,
   "id": "2116cc1d-29a5-4510-9b7c-5f7164c8f346",
   "metadata": {},
   "outputs": [
    {
     "data": {
      "text/plain": [
       "[3, 5, 6]"
      ]
     },
     "execution_count": 48,
     "metadata": {},
     "output_type": "execute_result"
    }
   ],
   "source": [
    "l1"
   ]
  },
  {
   "cell_type": "code",
   "execution_count": 49,
   "id": "70809f44-b544-425d-8e89-4abb991f6129",
   "metadata": {},
   "outputs": [],
   "source": [
    "l.append(l1)"
   ]
  },
  {
   "cell_type": "code",
   "execution_count": 50,
   "id": "db8776a3-cfa7-4cb0-a600-2164e1da1c54",
   "metadata": {},
   "outputs": [
    {
     "data": {
      "text/plain": [
       "[4, 445, 545, 'rajib', True, (5+8j), 56.564, 5, 10, 'pwskills', [3, 5, 6]]"
      ]
     },
     "execution_count": 50,
     "metadata": {},
     "output_type": "execute_result"
    }
   ],
   "source": [
    "l"
   ]
  },
  {
   "cell_type": "code",
   "execution_count": 51,
   "id": "8833cc8f-e87f-4b70-a505-8f4c8d8b6d61",
   "metadata": {},
   "outputs": [
    {
     "data": {
      "text/plain": [
       "4"
      ]
     },
     "execution_count": 51,
     "metadata": {},
     "output_type": "execute_result"
    }
   ],
   "source": [
    "l[0]"
   ]
  },
  {
   "cell_type": "code",
   "execution_count": 52,
   "id": "471f7812-b307-4810-81c2-1d64ef49ab44",
   "metadata": {},
   "outputs": [
    {
     "data": {
      "text/plain": [
       "[[3, 5, 6], 'pwskills', 10, 5, 56.564, (5+8j), True, 'rajib', 545, 445, 4]"
      ]
     },
     "execution_count": 52,
     "metadata": {},
     "output_type": "execute_result"
    }
   ],
   "source": [
    "l[::-1]"
   ]
  },
  {
   "cell_type": "code",
   "execution_count": 53,
   "id": "e0be7d4b-c053-4f62-8fdd-8940f80c2f5e",
   "metadata": {},
   "outputs": [
    {
     "data": {
      "text/plain": [
       "[3, 5, 6]"
      ]
     },
     "execution_count": 53,
     "metadata": {},
     "output_type": "execute_result"
    }
   ],
   "source": [
    "l[-1]"
   ]
  },
  {
   "cell_type": "code",
   "execution_count": 55,
   "id": "afc5bab3-cd57-4731-82e5-f951e5d84ab7",
   "metadata": {},
   "outputs": [
    {
     "data": {
      "text/plain": [
       "6"
      ]
     },
     "execution_count": 55,
     "metadata": {},
     "output_type": "execute_result"
    }
   ],
   "source": [
    "l[-1][2]"
   ]
  },
  {
   "cell_type": "code",
   "execution_count": 56,
   "id": "3b8bbb5f-a0b7-40e1-aa23-4aa2f536b72d",
   "metadata": {},
   "outputs": [
    {
     "data": {
      "text/plain": [
       "[4, 445, 545, 'rajib', True, (5+8j), 56.564, 5, 10, 'pwskills', [3, 5, 6]]"
      ]
     },
     "execution_count": 56,
     "metadata": {},
     "output_type": "execute_result"
    }
   ],
   "source": [
    "l"
   ]
  },
  {
   "cell_type": "code",
   "execution_count": 57,
   "id": "acf41a24-d7e8-45f7-9cd6-9b8d5999643c",
   "metadata": {},
   "outputs": [
    {
     "ename": "TypeError",
     "evalue": "'int' object is not iterable",
     "output_type": "error",
     "traceback": [
      "\u001b[0;31m---------------------------------------------------------------------------\u001b[0m",
      "\u001b[0;31mTypeError\u001b[0m                                 Traceback (most recent call last)",
      "Cell \u001b[0;32mIn[57], line 1\u001b[0m\n\u001b[0;32m----> 1\u001b[0m \u001b[43ml\u001b[49m\u001b[38;5;241;43m.\u001b[39;49m\u001b[43mextend\u001b[49m\u001b[43m(\u001b[49m\u001b[38;5;241;43m4\u001b[39;49m\u001b[43m)\u001b[49m\n",
      "\u001b[0;31mTypeError\u001b[0m: 'int' object is not iterable"
     ]
    }
   ],
   "source": [
    "l.extend(4)"
   ]
  },
  {
   "cell_type": "code",
   "execution_count": 58,
   "id": "024355a3-419e-4628-88f1-48633b896c79",
   "metadata": {},
   "outputs": [],
   "source": [
    "l.extend(\"rajib\")"
   ]
  },
  {
   "cell_type": "code",
   "execution_count": 59,
   "id": "ee2a4c66-5fe1-4fad-9e07-1cdecbd38560",
   "metadata": {},
   "outputs": [
    {
     "data": {
      "text/plain": [
       "[4,\n",
       " 445,\n",
       " 545,\n",
       " 'rajib',\n",
       " True,\n",
       " (5+8j),\n",
       " 56.564,\n",
       " 5,\n",
       " 10,\n",
       " 'pwskills',\n",
       " [3, 5, 6],\n",
       " 'r',\n",
       " 'a',\n",
       " 'j',\n",
       " 'i',\n",
       " 'b']"
      ]
     },
     "execution_count": 59,
     "metadata": {},
     "output_type": "execute_result"
    }
   ],
   "source": [
    "l"
   ]
  },
  {
   "cell_type": "code",
   "execution_count": 63,
   "id": "67d42166-9165-457c-9658-6224f0b859c5",
   "metadata": {},
   "outputs": [
    {
     "ename": "TypeError",
     "evalue": "'builtin_function_or_method' object is not subscriptable",
     "output_type": "error",
     "traceback": [
      "\u001b[0;31m---------------------------------------------------------------------------\u001b[0m",
      "\u001b[0;31mTypeError\u001b[0m                                 Traceback (most recent call last)",
      "Cell \u001b[0;32mIn[63], line 1\u001b[0m\n\u001b[0;32m----> 1\u001b[0m \u001b[43ml\u001b[49m\u001b[38;5;241;43m.\u001b[39;49m\u001b[43mextend\u001b[49m\u001b[43m[\u001b[49m\u001b[38;5;241;43m3\u001b[39;49m\u001b[43m,\u001b[49m\u001b[38;5;241;43m4\u001b[39;49m\u001b[43m,\u001b[49m\u001b[38;5;241;43m5\u001b[39;49m\u001b[43m]\u001b[49m\n",
      "\u001b[0;31mTypeError\u001b[0m: 'builtin_function_or_method' object is not subscriptable"
     ]
    }
   ],
   "source": [
    "l.extend[3,4,5]"
   ]
  },
  {
   "cell_type": "code",
   "execution_count": 64,
   "id": "300cb285-20a1-4e41-b31c-228d2aa77161",
   "metadata": {},
   "outputs": [
    {
     "data": {
      "text/plain": [
       "[4,\n",
       " 445,\n",
       " 545,\n",
       " 'rajib',\n",
       " True,\n",
       " (5+8j),\n",
       " 56.564,\n",
       " 5,\n",
       " 10,\n",
       " 'pwskills',\n",
       " [3, 5, 6],\n",
       " 'r',\n",
       " 'a',\n",
       " 'j',\n",
       " 'i',\n",
       " 'b']"
      ]
     },
     "execution_count": 64,
     "metadata": {},
     "output_type": "execute_result"
    }
   ],
   "source": [
    "l"
   ]
  },
  {
   "cell_type": "code",
   "execution_count": 66,
   "id": "1a58ed5c-c7cf-4fe7-91b4-eb162771100a",
   "metadata": {},
   "outputs": [],
   "source": [
    "l.extend([3,4,4])"
   ]
  },
  {
   "cell_type": "code",
   "execution_count": 75,
   "id": "1739c2a5-3ce6-406d-8b9c-d8b6b5cab0c6",
   "metadata": {},
   "outputs": [
    {
     "data": {
      "text/plain": [
       "[4,\n",
       " 445,\n",
       " 545,\n",
       " 'rajib',\n",
       " True,\n",
       " (5+8j),\n",
       " 56.564,\n",
       " 5,\n",
       " 10,\n",
       " 'pwskills',\n",
       " [3, 'rajib', 'rajib', 5, 6],\n",
       " 'r',\n",
       " 'a',\n",
       " 'j',\n",
       " 'i',\n",
       " 'b',\n",
       " 3,\n",
       " 4,\n",
       " 4]"
      ]
     },
     "execution_count": 75,
     "metadata": {},
     "output_type": "execute_result"
    }
   ],
   "source": [
    "l"
   ]
  },
  {
   "cell_type": "code",
   "execution_count": 76,
   "id": "03b1be1e-b6da-4abd-9991-c34857a3e5d0",
   "metadata": {},
   "outputs": [
    {
     "data": {
      "text/plain": [
       "[3, 'rajib', 'rajib', 5, 6]"
      ]
     },
     "execution_count": 76,
     "metadata": {},
     "output_type": "execute_result"
    }
   ],
   "source": [
    "l1"
   ]
  },
  {
   "cell_type": "code",
   "execution_count": 77,
   "id": "1aef41a6-9b84-4c69-a19e-10265a6d703e",
   "metadata": {},
   "outputs": [],
   "source": [
    "l1.insert(1,\"sigma\")"
   ]
  },
  {
   "cell_type": "code",
   "execution_count": 78,
   "id": "11e68129-c784-4dfb-8603-17f6f70eb605",
   "metadata": {},
   "outputs": [
    {
     "data": {
      "text/plain": [
       "[3, 'sigma', 'rajib', 'rajib', 5, 6]"
      ]
     },
     "execution_count": 78,
     "metadata": {},
     "output_type": "execute_result"
    }
   ],
   "source": [
    "l1"
   ]
  },
  {
   "cell_type": "code",
   "execution_count": 79,
   "id": "724dd9cb-f206-4a85-8a94-2af8cff33728",
   "metadata": {},
   "outputs": [
    {
     "data": {
      "text/plain": [
       "[3, 'sigma', 'rajib', 'rajib', 5, 6]"
      ]
     },
     "execution_count": 79,
     "metadata": {},
     "output_type": "execute_result"
    }
   ],
   "source": [
    "l1"
   ]
  },
  {
   "cell_type": "code",
   "execution_count": 80,
   "id": "84018a42-da95-4c5a-8ec5-55e08d271121",
   "metadata": {},
   "outputs": [],
   "source": [
    "l1.insert(1,[8,5,2])"
   ]
  },
  {
   "cell_type": "code",
   "execution_count": 81,
   "id": "67da391e-bcdd-49d2-a381-489a18597998",
   "metadata": {},
   "outputs": [
    {
     "data": {
      "text/plain": [
       "[3, [8, 5, 2], 'sigma', 'rajib', 'rajib', 5, 6]"
      ]
     },
     "execution_count": 81,
     "metadata": {},
     "output_type": "execute_result"
    }
   ],
   "source": [
    "l1"
   ]
  },
  {
   "cell_type": "code",
   "execution_count": 82,
   "id": "dd8f5133-cdc2-48e9-b3fd-fbffc6ebd3c0",
   "metadata": {},
   "outputs": [],
   "source": [
    "l1.insert(0,\"money\")"
   ]
  },
  {
   "cell_type": "code",
   "execution_count": 83,
   "id": "88162dfc-71a6-4f34-9492-40d00c926cac",
   "metadata": {},
   "outputs": [
    {
     "data": {
      "text/plain": [
       "['money', 3, [8, 5, 2], 'sigma', 'rajib', 'rajib', 5, 6]"
      ]
     },
     "execution_count": 83,
     "metadata": {},
     "output_type": "execute_result"
    }
   ],
   "source": [
    "l1"
   ]
  },
  {
   "cell_type": "code",
   "execution_count": 84,
   "id": "6989bd34-22d8-4a53-b60a-ce66f927c606",
   "metadata": {},
   "outputs": [],
   "source": [
    "l1.insert(-1,\"data\")"
   ]
  },
  {
   "cell_type": "code",
   "execution_count": 85,
   "id": "0fc680a7-1038-4114-aca5-864812eb070f",
   "metadata": {},
   "outputs": [
    {
     "data": {
      "text/plain": [
       "['money', 3, [8, 5, 2], 'sigma', 'rajib', 'rajib', 5, 'data', 6]"
      ]
     },
     "execution_count": 85,
     "metadata": {},
     "output_type": "execute_result"
    }
   ],
   "source": [
    "l1"
   ]
  },
  {
   "cell_type": "code",
   "execution_count": 86,
   "id": "bc91d09a-3f9c-415c-960d-a97f751bc4fb",
   "metadata": {},
   "outputs": [
    {
     "data": {
      "text/plain": [
       "6"
      ]
     },
     "execution_count": 86,
     "metadata": {},
     "output_type": "execute_result"
    }
   ],
   "source": [
    "l1.pop()"
   ]
  },
  {
   "cell_type": "code",
   "execution_count": 87,
   "id": "5fe14955-a972-4084-83d0-ee2e0adbac50",
   "metadata": {},
   "outputs": [
    {
     "data": {
      "text/plain": [
       "['money', 3, [8, 5, 2], 'sigma', 'rajib', 'rajib', 5, 'data']"
      ]
     },
     "execution_count": 87,
     "metadata": {},
     "output_type": "execute_result"
    }
   ],
   "source": [
    "l1"
   ]
  },
  {
   "cell_type": "code",
   "execution_count": 88,
   "id": "07c78c04-a598-4442-8a9b-d815ef7fe4c2",
   "metadata": {},
   "outputs": [
    {
     "data": {
      "text/plain": [
       "'data'"
      ]
     },
     "execution_count": 88,
     "metadata": {},
     "output_type": "execute_result"
    }
   ],
   "source": [
    "l1.pop()"
   ]
  },
  {
   "cell_type": "code",
   "execution_count": 89,
   "id": "0a339c26-ca10-47ef-96f6-11967e9db13b",
   "metadata": {},
   "outputs": [
    {
     "data": {
      "text/plain": [
       "['money', 3, [8, 5, 2], 'sigma', 'rajib', 'rajib', 5]"
      ]
     },
     "execution_count": 89,
     "metadata": {},
     "output_type": "execute_result"
    }
   ],
   "source": [
    "l1"
   ]
  },
  {
   "cell_type": "code",
   "execution_count": 90,
   "id": "74542f73-c8b4-420f-a4e3-f34b5ca8b183",
   "metadata": {},
   "outputs": [
    {
     "data": {
      "text/plain": [
       "[8, 5, 2]"
      ]
     },
     "execution_count": 90,
     "metadata": {},
     "output_type": "execute_result"
    }
   ],
   "source": [
    "l1.pop(2)"
   ]
  },
  {
   "cell_type": "code",
   "execution_count": 91,
   "id": "00bc4db5-f41d-4eac-b850-a038dcd54540",
   "metadata": {},
   "outputs": [
    {
     "data": {
      "text/plain": [
       "['money', 3, 'sigma', 'rajib', 'rajib', 5]"
      ]
     },
     "execution_count": 91,
     "metadata": {},
     "output_type": "execute_result"
    }
   ],
   "source": [
    "l1"
   ]
  },
  {
   "cell_type": "code",
   "execution_count": 92,
   "id": "ee355672-a64d-4123-b8d2-5745e166bcd7",
   "metadata": {},
   "outputs": [],
   "source": [
    "l1.remove(3)"
   ]
  },
  {
   "cell_type": "code",
   "execution_count": 93,
   "id": "934e24fb-e422-41cd-8d8c-96aef1c67421",
   "metadata": {},
   "outputs": [
    {
     "data": {
      "text/plain": [
       "['money', 'sigma', 'rajib', 'rajib', 5]"
      ]
     },
     "execution_count": 93,
     "metadata": {},
     "output_type": "execute_result"
    }
   ],
   "source": [
    "l1"
   ]
  },
  {
   "cell_type": "code",
   "execution_count": 94,
   "id": "15ce6a38-47e8-4cf1-bdfd-b7a9e1ca9aba",
   "metadata": {},
   "outputs": [],
   "source": [
    "l1.remove('sigma')"
   ]
  },
  {
   "cell_type": "code",
   "execution_count": 1,
   "id": "77a9d1d5-cadc-4ef9-8b24-314795a4eaaf",
   "metadata": {},
   "outputs": [
    {
     "ename": "NameError",
     "evalue": "name 'l1' is not defined",
     "output_type": "error",
     "traceback": [
      "\u001b[0;31m---------------------------------------------------------------------------\u001b[0m",
      "\u001b[0;31mNameError\u001b[0m                                 Traceback (most recent call last)",
      "Cell \u001b[0;32mIn[1], line 1\u001b[0m\n\u001b[0;32m----> 1\u001b[0m \u001b[43ml1\u001b[49m\n",
      "\u001b[0;31mNameError\u001b[0m: name 'l1' is not defined"
     ]
    }
   ],
   "source": [
    "l1"
   ]
  },
  {
   "cell_type": "code",
   "execution_count": 2,
   "id": "1903e7f6-f683-4e03-9f39-1c7781de314f",
   "metadata": {},
   "outputs": [],
   "source": [
    "l1 = ['money', 3, 'sigma', 'rajib', 'rajib', 5]"
   ]
  },
  {
   "cell_type": "code",
   "execution_count": 3,
   "id": "dd1f043d-729d-459f-a79f-c536d8665c6d",
   "metadata": {},
   "outputs": [
    {
     "data": {
      "text/plain": [
       "['money', 3, 'sigma', 'rajib', 'rajib', 5]"
      ]
     },
     "execution_count": 3,
     "metadata": {},
     "output_type": "execute_result"
    }
   ],
   "source": [
    "l1"
   ]
  },
  {
   "cell_type": "code",
   "execution_count": 4,
   "id": "4920aa07-01cf-460f-ad31-e420b1f6bacb",
   "metadata": {},
   "outputs": [],
   "source": [
    "l1 = ['money', 3, [8, 5, 2], 'sigma', 'rajib', 'rajib', 5, 'data']"
   ]
  },
  {
   "cell_type": "code",
   "execution_count": 5,
   "id": "bef56112-e60d-4020-ba78-e7d1b637b5ae",
   "metadata": {},
   "outputs": [
    {
     "data": {
      "text/plain": [
       "['money', 3, [8, 5, 2], 'sigma', 'rajib', 'rajib', 5, 'data']"
      ]
     },
     "execution_count": 5,
     "metadata": {},
     "output_type": "execute_result"
    }
   ],
   "source": [
    "l1"
   ]
  },
  {
   "cell_type": "code",
   "execution_count": 7,
   "id": "3c20e657-7168-4566-a1ce-8289684a33e3",
   "metadata": {},
   "outputs": [],
   "source": [
    "l1[2].remove(5)"
   ]
  },
  {
   "cell_type": "code",
   "execution_count": 8,
   "id": "0376bb69-1c17-4f7f-b26e-13e654bbb4da",
   "metadata": {},
   "outputs": [
    {
     "data": {
      "text/plain": [
       "['money', 3, [8, 2], 'sigma', 'rajib', 'rajib', 5, 'data']"
      ]
     },
     "execution_count": 8,
     "metadata": {},
     "output_type": "execute_result"
    }
   ],
   "source": [
    "l1"
   ]
  },
  {
   "cell_type": "code",
   "execution_count": 9,
   "id": "4919ac47-6e6a-475b-a742-f3292911e259",
   "metadata": {},
   "outputs": [],
   "source": [
    "l1.append(5)"
   ]
  },
  {
   "cell_type": "code",
   "execution_count": 10,
   "id": "f97ef8d7-4631-426b-9a2f-e40b7265d530",
   "metadata": {},
   "outputs": [
    {
     "data": {
      "text/plain": [
       "['money', 3, [8, 2], 'sigma', 'rajib', 'rajib', 5, 'data', 5]"
      ]
     },
     "execution_count": 10,
     "metadata": {},
     "output_type": "execute_result"
    }
   ],
   "source": [
    "l1"
   ]
  },
  {
   "cell_type": "code",
   "execution_count": 11,
   "id": "4e2c1d79-0739-434d-b29a-5d11d7d12833",
   "metadata": {},
   "outputs": [],
   "source": [
    "l1.remove(5)"
   ]
  },
  {
   "cell_type": "code",
   "execution_count": 12,
   "id": "02f2856a-c7e6-4b9c-bf1e-4dfdca656c17",
   "metadata": {},
   "outputs": [
    {
     "data": {
      "text/plain": [
       "['money', 3, [8, 2], 'sigma', 'rajib', 'rajib', 'data', 5]"
      ]
     },
     "execution_count": 12,
     "metadata": {},
     "output_type": "execute_result"
    }
   ],
   "source": [
    "l1"
   ]
  },
  {
   "cell_type": "code",
   "execution_count": 13,
   "id": "d249b43c-778e-4190-afc4-e97fda772f3e",
   "metadata": {},
   "outputs": [
    {
     "data": {
      "text/plain": [
       "[5, 'data', 'rajib', 'rajib', 'sigma', [8, 2], 3, 'money']"
      ]
     },
     "execution_count": 13,
     "metadata": {},
     "output_type": "execute_result"
    }
   ],
   "source": [
    "l1[::-1]"
   ]
  },
  {
   "cell_type": "code",
   "execution_count": 14,
   "id": "5a1919db-fdda-4355-97b6-cfb368fb1b5b",
   "metadata": {},
   "outputs": [],
   "source": [
    "l1.reverse()"
   ]
  },
  {
   "cell_type": "code",
   "execution_count": 15,
   "id": "e826cd93-b41a-4459-acde-ec2958756964",
   "metadata": {},
   "outputs": [
    {
     "data": {
      "text/plain": [
       "[5, 'data', 'rajib', 'rajib', 'sigma', [8, 2], 3, 'money']"
      ]
     },
     "execution_count": 15,
     "metadata": {},
     "output_type": "execute_result"
    }
   ],
   "source": [
    "l1"
   ]
  },
  {
   "cell_type": "code",
   "execution_count": 16,
   "id": "aa2b2708-ea1c-4633-bc86-4d3df376f617",
   "metadata": {},
   "outputs": [],
   "source": [
    "l1.reverse()"
   ]
  },
  {
   "cell_type": "code",
   "execution_count": 17,
   "id": "b32a4dfe-1e6c-4144-b1bd-57d131cc804b",
   "metadata": {},
   "outputs": [
    {
     "data": {
      "text/plain": [
       "['money', 3, [8, 2], 'sigma', 'rajib', 'rajib', 'data', 5]"
      ]
     },
     "execution_count": 17,
     "metadata": {},
     "output_type": "execute_result"
    }
   ],
   "source": [
    "l1"
   ]
  },
  {
   "cell_type": "code",
   "execution_count": 22,
   "id": "300e1dde-4a19-4a87-9ad2-892200c9c4d5",
   "metadata": {},
   "outputs": [],
   "source": [
    "l2 = [4,8,9,89,56,56,89,63,6]"
   ]
  },
  {
   "cell_type": "code",
   "execution_count": 19,
   "id": "93078d13-4ca1-4407-80f0-722ae6f2c0cc",
   "metadata": {},
   "outputs": [
    {
     "data": {
      "text/plain": [
       "[4, 8, 9, 6]"
      ]
     },
     "execution_count": 19,
     "metadata": {},
     "output_type": "execute_result"
    }
   ],
   "source": [
    "l2"
   ]
  },
  {
   "cell_type": "code",
   "execution_count": 23,
   "id": "9c7e48c5-417e-44a4-8ecf-cdca62b3194a",
   "metadata": {},
   "outputs": [],
   "source": [
    "l2.sort()"
   ]
  },
  {
   "cell_type": "code",
   "execution_count": 2,
   "id": "24b120ac-ee63-4f4d-92d5-653257781a7c",
   "metadata": {},
   "outputs": [
    {
     "ename": "NameError",
     "evalue": "name 'l2' is not defined",
     "output_type": "error",
     "traceback": [
      "\u001b[0;31m---------------------------------------------------------------------------\u001b[0m",
      "\u001b[0;31mNameError\u001b[0m                                 Traceback (most recent call last)",
      "Cell \u001b[0;32mIn[2], line 1\u001b[0m\n\u001b[0;32m----> 1\u001b[0m \u001b[43ml2\u001b[49m\n",
      "\u001b[0;31mNameError\u001b[0m: name 'l2' is not defined"
     ]
    }
   ],
   "source": [
    "l2"
   ]
  },
  {
   "cell_type": "code",
   "execution_count": 3,
   "id": "298ef4b4-da06-470f-ac86-0e3efa5a8900",
   "metadata": {},
   "outputs": [],
   "source": [
    "l4 = ['data science', 'marblr', 'rajib','jhs']"
   ]
  },
  {
   "cell_type": "code",
   "execution_count": 6,
   "id": "3ee2ca86-304b-4da7-a5fe-8ebc24980f82",
   "metadata": {},
   "outputs": [],
   "source": [
    "l4.sort(reverse=True)"
   ]
  },
  {
   "cell_type": "code",
   "execution_count": 7,
   "id": "7d30ee9a-84b0-466c-b398-f8eaea62899c",
   "metadata": {},
   "outputs": [
    {
     "data": {
      "text/plain": [
       "['rajib', 'marblr', 'jhs', 'data science']"
      ]
     },
     "execution_count": 7,
     "metadata": {},
     "output_type": "execute_result"
    }
   ],
   "source": [
    "l4"
   ]
  },
  {
   "cell_type": "code",
   "execution_count": 9,
   "id": "fc0f7296-1ea1-4ba9-a1a4-dff8f19889a3",
   "metadata": {},
   "outputs": [
    {
     "data": {
      "text/plain": [
       "2"
      ]
     },
     "execution_count": 9,
     "metadata": {},
     "output_type": "execute_result"
    }
   ],
   "source": [
    "l4.index('jhs')"
   ]
  },
  {
   "cell_type": "code",
   "execution_count": 10,
   "id": "16cde4b0-09aa-4f29-8d1b-079fa25b07ef",
   "metadata": {},
   "outputs": [
    {
     "data": {
      "text/plain": [
       "1"
      ]
     },
     "execution_count": 10,
     "metadata": {},
     "output_type": "execute_result"
    }
   ],
   "source": [
    "l4.count('rajib')"
   ]
  },
  {
   "cell_type": "code",
   "execution_count": 1,
   "id": "a6b954b9-3234-42d9-9a71-b1de4bf91962",
   "metadata": {},
   "outputs": [],
   "source": [
    "l4 = ['data science', 'marblr', 'rajib','jhs']"
   ]
  },
  {
   "cell_type": "code",
   "execution_count": 2,
   "id": "fd39cd5d-5abe-4032-b01b-bc9c4a62d015",
   "metadata": {},
   "outputs": [
    {
     "data": {
      "text/plain": [
       "['data science', 'marblr', 'rajib', 'jhs']"
      ]
     },
     "execution_count": 2,
     "metadata": {},
     "output_type": "execute_result"
    }
   ],
   "source": [
    "l4"
   ]
  },
  {
   "cell_type": "code",
   "execution_count": 3,
   "id": "cc09e40d-8ff5-4638-a4b3-edca5ea76559",
   "metadata": {},
   "outputs": [],
   "source": [
    "l4.sort()"
   ]
  },
  {
   "cell_type": "code",
   "execution_count": 4,
   "id": "fff29461-24d6-4811-9ae4-5091053b9861",
   "metadata": {},
   "outputs": [
    {
     "data": {
      "text/plain": [
       "['data science', 'jhs', 'marblr', 'rajib']"
      ]
     },
     "execution_count": 4,
     "metadata": {},
     "output_type": "execute_result"
    }
   ],
   "source": [
    "l4"
   ]
  },
  {
   "cell_type": "code",
   "execution_count": 5,
   "id": "b11cbb90-18e1-409a-a433-96b60191507a",
   "metadata": {},
   "outputs": [],
   "source": [
    "l4.sort(reverse=True)"
   ]
  },
  {
   "cell_type": "code",
   "execution_count": 6,
   "id": "9ba28b94-1f50-48d1-bc53-171011f94af3",
   "metadata": {},
   "outputs": [
    {
     "data": {
      "text/plain": [
       "['rajib', 'marblr', 'jhs', 'data science']"
      ]
     },
     "execution_count": 6,
     "metadata": {},
     "output_type": "execute_result"
    }
   ],
   "source": [
    "l4"
   ]
  },
  {
   "cell_type": "code",
   "execution_count": 7,
   "id": "c97f9e23-c944-4b7f-bb95-dc8b895b40ea",
   "metadata": {},
   "outputs": [],
   "source": [
    "r = 'rajib'"
   ]
  },
  {
   "cell_type": "code",
   "execution_count": 8,
   "id": "9933f7b9-41d1-44ce-a0ea-00b52a78d187",
   "metadata": {},
   "outputs": [],
   "source": [
    "l5 = [3,4,5,6]"
   ]
  },
  {
   "cell_type": "code",
   "execution_count": 10,
   "id": "21dfc1d3-3c35-4065-a4e9-4d6188479429",
   "metadata": {},
   "outputs": [
    {
     "ename": "TypeError",
     "evalue": "'str' object does not support item assignment",
     "output_type": "error",
     "traceback": [
      "\u001b[0;31m---------------------------------------------------------------------------\u001b[0m",
      "\u001b[0;31mTypeError\u001b[0m                                 Traceback (most recent call last)",
      "Cell \u001b[0;32mIn[10], line 1\u001b[0m\n\u001b[0;32m----> 1\u001b[0m \u001b[43mr\u001b[49m\u001b[43m[\u001b[49m\u001b[38;5;241;43m0\u001b[39;49m\u001b[43m]\u001b[49m \u001b[38;5;241m=\u001b[39m \u001b[38;5;124m'\u001b[39m\u001b[38;5;124ma\u001b[39m\u001b[38;5;124m'\u001b[39m\n",
      "\u001b[0;31mTypeError\u001b[0m: 'str' object does not support item assignment"
     ]
    }
   ],
   "source": [
    "r[0] = 'a'"
   ]
  },
  {
   "cell_type": "code",
   "execution_count": 12,
   "id": "472c81f3-076b-47ec-b2e6-e1f04ef51615",
   "metadata": {},
   "outputs": [],
   "source": [
    "l5[0] = 30"
   ]
  },
  {
   "cell_type": "code",
   "execution_count": 13,
   "id": "fb690de0-2054-48d0-ac56-24498cc6daa3",
   "metadata": {},
   "outputs": [
    {
     "data": {
      "text/plain": [
       "[30, 4, 5, 6]"
      ]
     },
     "execution_count": 13,
     "metadata": {},
     "output_type": "execute_result"
    }
   ],
   "source": [
    "l5"
   ]
  },
  {
   "cell_type": "code",
   "execution_count": 14,
   "id": "2b1c79fb-d4c3-4692-8caa-e553f78826d7",
   "metadata": {},
   "outputs": [
    {
     "data": {
      "text/plain": [
       "'zajib'"
      ]
     },
     "execution_count": 14,
     "metadata": {},
     "output_type": "execute_result"
    }
   ],
   "source": [
    "r.replace('r','z')"
   ]
  },
  {
   "cell_type": "code",
   "execution_count": 15,
   "id": "aaa7ab96-88a5-4e9d-a894-d45dd89e1ecd",
   "metadata": {},
   "outputs": [
    {
     "data": {
      "text/plain": [
       "'rajib'"
      ]
     },
     "execution_count": 15,
     "metadata": {},
     "output_type": "execute_result"
    }
   ],
   "source": [
    "r"
   ]
  },
  {
   "cell_type": "code",
   "execution_count": 18,
   "id": "07c95e25-0a80-452b-bb2b-bca17b3ee2cb",
   "metadata": {},
   "outputs": [],
   "source": [
    "t = (7,5,6,'rajib',45.587, False, 45+6788j,[3,5,6])"
   ]
  },
  {
   "cell_type": "code",
   "execution_count": 19,
   "id": "d0bfb1ba-d286-4def-8b89-273e45f35e6c",
   "metadata": {},
   "outputs": [
    {
     "data": {
      "text/plain": [
       "(7, 5, 6, 'rajib', 45.587, False, (45+6788j), [3, 5, 6])"
      ]
     },
     "execution_count": 19,
     "metadata": {},
     "output_type": "execute_result"
    }
   ],
   "source": [
    "t"
   ]
  },
  {
   "cell_type": "code",
   "execution_count": 20,
   "id": "e3a379eb-4b2e-4917-8a53-c24cf016ccfc",
   "metadata": {},
   "outputs": [
    {
     "data": {
      "text/plain": [
       "tuple"
      ]
     },
     "execution_count": 20,
     "metadata": {},
     "output_type": "execute_result"
    }
   ],
   "source": [
    "type(t)"
   ]
  },
  {
   "cell_type": "code",
   "execution_count": 21,
   "id": "b1c39a3d-9c6b-4e68-b83a-eb3a010f96a8",
   "metadata": {},
   "outputs": [
    {
     "data": {
      "text/plain": [
       "8"
      ]
     },
     "execution_count": 21,
     "metadata": {},
     "output_type": "execute_result"
    }
   ],
   "source": [
    "len(t)"
   ]
  },
  {
   "cell_type": "code",
   "execution_count": 22,
   "id": "d58346ab-ac88-4ab9-91fa-d6ddcd28e9f6",
   "metadata": {},
   "outputs": [
    {
     "data": {
      "text/plain": [
       "7"
      ]
     },
     "execution_count": 22,
     "metadata": {},
     "output_type": "execute_result"
    }
   ],
   "source": [
    "t[0]"
   ]
  },
  {
   "cell_type": "code",
   "execution_count": 23,
   "id": "29be5f10-6b77-49ae-8c7c-d530cba51fdd",
   "metadata": {},
   "outputs": [
    {
     "data": {
      "text/plain": [
       "(45+6788j)"
      ]
     },
     "execution_count": 23,
     "metadata": {},
     "output_type": "execute_result"
    }
   ],
   "source": [
    "t[-2]"
   ]
  },
  {
   "cell_type": "code",
   "execution_count": 24,
   "id": "4204b114-94ca-42fd-90ca-8d41c740600e",
   "metadata": {},
   "outputs": [
    {
     "data": {
      "text/plain": [
       "([3, 5, 6], (45+6788j), False, 45.587, 'rajib', 6, 5, 7)"
      ]
     },
     "execution_count": 24,
     "metadata": {},
     "output_type": "execute_result"
    }
   ],
   "source": [
    "t[::-1]"
   ]
  },
  {
   "cell_type": "code",
   "execution_count": 25,
   "id": "fec9a41c-f5dc-447a-b679-110df88300af",
   "metadata": {},
   "outputs": [
    {
     "data": {
      "text/plain": [
       "['rajib', 'marblr', 'jhs', 'data science']"
      ]
     },
     "execution_count": 25,
     "metadata": {},
     "output_type": "execute_result"
    }
   ],
   "source": [
    "l4"
   ]
  },
  {
   "cell_type": "code",
   "execution_count": 29,
   "id": "feac49bb-a684-4451-b1eb-592f97c0ec69",
   "metadata": {},
   "outputs": [],
   "source": [
    "l4[0] = 4846"
   ]
  },
  {
   "cell_type": "code",
   "execution_count": 30,
   "id": "4d9bed4c-36b4-4526-ae28-fb984e54ce65",
   "metadata": {},
   "outputs": [
    {
     "data": {
      "text/plain": [
       "[4846, 'marblr', 'jhs', 'data science']"
      ]
     },
     "execution_count": 30,
     "metadata": {},
     "output_type": "execute_result"
    }
   ],
   "source": [
    "l4"
   ]
  },
  {
   "cell_type": "code",
   "execution_count": 32,
   "id": "aeb9d69a-d800-4967-a1cf-c0c1a274a92f",
   "metadata": {},
   "outputs": [
    {
     "ename": "TypeError",
     "evalue": "'tuple' object does not support item assignment",
     "output_type": "error",
     "traceback": [
      "\u001b[0;31m---------------------------------------------------------------------------\u001b[0m",
      "\u001b[0;31mTypeError\u001b[0m                                 Traceback (most recent call last)",
      "Cell \u001b[0;32mIn[32], line 1\u001b[0m\n\u001b[0;32m----> 1\u001b[0m \u001b[43mt\u001b[49m\u001b[43m[\u001b[49m\u001b[38;5;241;43m0\u001b[39;49m\u001b[43m]\u001b[49m \u001b[38;5;241m=\u001b[39m \u001b[38;5;124m'\u001b[39m\u001b[38;5;124mrajib\u001b[39m\u001b[38;5;124m'\u001b[39m\n",
      "\u001b[0;31mTypeError\u001b[0m: 'tuple' object does not support item assignment"
     ]
    }
   ],
   "source": [
    "t[0] = 'rajib'"
   ]
  },
  {
   "cell_type": "code",
   "execution_count": 33,
   "id": "dcb0bd30-67d1-4346-86c0-24afd390ed6c",
   "metadata": {},
   "outputs": [
    {
     "data": {
      "text/plain": [
       "([3, 5, 6], (45+6788j), False, 45.587, 'rajib', 6, 5, 7)"
      ]
     },
     "execution_count": 33,
     "metadata": {},
     "output_type": "execute_result"
    }
   ],
   "source": [
    "t[::-1]"
   ]
  },
  {
   "cell_type": "code",
   "execution_count": 34,
   "id": "c8be1c5d-267a-41db-afdf-4f611ec101b5",
   "metadata": {},
   "outputs": [
    {
     "data": {
      "text/plain": [
       "(7, 5, 6, 'rajib', 45.587, False, (45+6788j), [3, 5, 6])"
      ]
     },
     "execution_count": 34,
     "metadata": {},
     "output_type": "execute_result"
    }
   ],
   "source": [
    "t"
   ]
  },
  {
   "cell_type": "code",
   "execution_count": 36,
   "id": "dc1f12e6-bee8-4e2c-8309-a67ae83dcd4d",
   "metadata": {},
   "outputs": [
    {
     "data": {
      "text/plain": [
       "1"
      ]
     },
     "execution_count": 36,
     "metadata": {},
     "output_type": "execute_result"
    }
   ],
   "source": [
    "t.count(5)"
   ]
  },
  {
   "cell_type": "code",
   "execution_count": 37,
   "id": "9cfdc0d8-f7b0-4007-95da-a556c75cd5a4",
   "metadata": {},
   "outputs": [
    {
     "data": {
      "text/plain": [
       "3"
      ]
     },
     "execution_count": 37,
     "metadata": {},
     "output_type": "execute_result"
    }
   ],
   "source": [
    "t.index('rajib')"
   ]
  },
  {
   "cell_type": "code",
   "execution_count": 38,
   "id": "8ee1a8ee-3201-4399-9d55-536729dc3c98",
   "metadata": {},
   "outputs": [],
   "source": [
    "s1 ={}"
   ]
  },
  {
   "cell_type": "code",
   "execution_count": 39,
   "id": "c924ca6e-623a-4163-bdb3-392c90d108e4",
   "metadata": {},
   "outputs": [
    {
     "data": {
      "text/plain": [
       "dict"
      ]
     },
     "execution_count": 39,
     "metadata": {},
     "output_type": "execute_result"
    }
   ],
   "source": [
    "type(s1)"
   ]
  },
  {
   "cell_type": "code",
   "execution_count": 42,
   "id": "e17fec99-451e-4743-9417-fa788d8ac383",
   "metadata": {},
   "outputs": [],
   "source": [
    "s2 = {2,6,5,4,}"
   ]
  },
  {
   "cell_type": "code",
   "execution_count": 43,
   "id": "4189f236-5011-42f2-afd7-b584c70a064f",
   "metadata": {},
   "outputs": [
    {
     "data": {
      "text/plain": [
       "set"
      ]
     },
     "execution_count": 43,
     "metadata": {},
     "output_type": "execute_result"
    }
   ],
   "source": [
    "type(s2)"
   ]
  },
  {
   "cell_type": "code",
   "execution_count": 44,
   "id": "9810eb2a-16bc-4e88-b996-3da806f710eb",
   "metadata": {},
   "outputs": [],
   "source": [
    "s3 = {656,4,56456,'rajib', 456.0665, True, False}"
   ]
  },
  {
   "cell_type": "code",
   "execution_count": 45,
   "id": "0a0d209e-1ada-4aa2-af6c-c43a99f2ac70",
   "metadata": {},
   "outputs": [
    {
     "data": {
      "text/plain": [
       "{4, 456.0665, 56456, 656, False, True, 'rajib'}"
      ]
     },
     "execution_count": 45,
     "metadata": {},
     "output_type": "execute_result"
    }
   ],
   "source": [
    "s3"
   ]
  },
  {
   "cell_type": "code",
   "execution_count": 53,
   "id": "e71192b9-dd76-4d75-a332-cb0a4540a9d7",
   "metadata": {},
   "outputs": [],
   "source": [
    "s4 = {4,9,59,97,28,94,9,9,9,4,9,5,69,'rajib','rajib'}"
   ]
  },
  {
   "cell_type": "code",
   "execution_count": 54,
   "id": "5d46c579-47fd-4656-a2ee-5249a1f1faf8",
   "metadata": {},
   "outputs": [
    {
     "data": {
      "text/plain": [
       "{28, 4, 5, 59, 69, 9, 94, 97, 'rajib'}"
      ]
     },
     "execution_count": 54,
     "metadata": {},
     "output_type": "execute_result"
    }
   ],
   "source": [
    "s4"
   ]
  },
  {
   "cell_type": "code",
   "execution_count": 55,
   "id": "bade78cc-f5a6-4152-a1bb-a90fcb1e66c3",
   "metadata": {},
   "outputs": [],
   "source": [
    "s4 = {4,9,59,97,28,94,9,9,9,4,9,5,69,'Rajib','rajib'}"
   ]
  },
  {
   "cell_type": "code",
   "execution_count": 56,
   "id": "07d9e9c2-1e34-45cc-bff4-fac8d431abd6",
   "metadata": {},
   "outputs": [
    {
     "data": {
      "text/plain": [
       "{28, 4, 5, 59, 69, 9, 94, 97, 'Rajib', 'rajib'}"
      ]
     },
     "execution_count": 56,
     "metadata": {},
     "output_type": "execute_result"
    }
   ],
   "source": [
    "s4"
   ]
  },
  {
   "cell_type": "code",
   "execution_count": 57,
   "id": "a0fdc6e9-6799-4a7d-bfdd-6f5c66dc5d35",
   "metadata": {},
   "outputs": [],
   "source": [
    "l6 = [4,9,59,97,28,94,9,9,9,4,9,5,69,'Rajib','rajib']"
   ]
  },
  {
   "cell_type": "code",
   "execution_count": 60,
   "id": "ed9c2636-e201-4ebb-a2ff-ef271ca6b034",
   "metadata": {},
   "outputs": [],
   "source": [
    "l6 = list(set(l6))"
   ]
  },
  {
   "cell_type": "code",
   "execution_count": 61,
   "id": "c7dd2974-e09a-44df-b7c7-519e6f243fc6",
   "metadata": {},
   "outputs": [
    {
     "data": {
      "text/plain": [
       "[97, 'Rajib', 4, 5, 69, 9, 59, 28, 'rajib', 94]"
      ]
     },
     "execution_count": 61,
     "metadata": {},
     "output_type": "execute_result"
    }
   ],
   "source": [
    "l6"
   ]
  },
  {
   "cell_type": "code",
   "execution_count": 62,
   "id": "32e0eb47-9c87-4980-b1ee-3d2f649b74f4",
   "metadata": {},
   "outputs": [
    {
     "ename": "TypeError",
     "evalue": "'set' object is not subscriptable",
     "output_type": "error",
     "traceback": [
      "\u001b[0;31m---------------------------------------------------------------------------\u001b[0m",
      "\u001b[0;31mTypeError\u001b[0m                                 Traceback (most recent call last)",
      "Cell \u001b[0;32mIn[62], line 1\u001b[0m\n\u001b[0;32m----> 1\u001b[0m \u001b[43ms4\u001b[49m\u001b[43m[\u001b[49m\u001b[38;5;241;43m0\u001b[39;49m\u001b[43m]\u001b[49m\n",
      "\u001b[0;31mTypeError\u001b[0m: 'set' object is not subscriptable"
     ]
    }
   ],
   "source": [
    "s4[0]"
   ]
  },
  {
   "cell_type": "code",
   "execution_count": 63,
   "id": "7d4c17eb-1fd2-4bc9-9e23-5a84e53c6337",
   "metadata": {},
   "outputs": [
    {
     "ename": "TypeError",
     "evalue": "'set' object is not subscriptable",
     "output_type": "error",
     "traceback": [
      "\u001b[0;31m---------------------------------------------------------------------------\u001b[0m",
      "\u001b[0;31mTypeError\u001b[0m                                 Traceback (most recent call last)",
      "Cell \u001b[0;32mIn[63], line 1\u001b[0m\n\u001b[0;32m----> 1\u001b[0m \u001b[43ms4\u001b[49m\u001b[43m[\u001b[49m\u001b[43m:\u001b[49m\u001b[43m:\u001b[49m\u001b[38;5;241;43m-\u001b[39;49m\u001b[38;5;241;43m1\u001b[39;49m\u001b[43m]\u001b[49m\n",
      "\u001b[0;31mTypeError\u001b[0m: 'set' object is not subscriptable"
     ]
    }
   ],
   "source": [
    "s4[::-1]"
   ]
  },
  {
   "cell_type": "code",
   "execution_count": 64,
   "id": "a4ccd17a-ed84-47ce-bd7e-ff549efed009",
   "metadata": {},
   "outputs": [],
   "source": [
    "s4.add(4)"
   ]
  },
  {
   "cell_type": "code",
   "execution_count": 65,
   "id": "c862cd59-a3cf-4b98-ac24-c01c320f86b0",
   "metadata": {},
   "outputs": [
    {
     "data": {
      "text/plain": [
       "{28, 4, 5, 59, 69, 9, 94, 97, 'Rajib', 'rajib'}"
      ]
     },
     "execution_count": 65,
     "metadata": {},
     "output_type": "execute_result"
    }
   ],
   "source": [
    "s4"
   ]
  },
  {
   "cell_type": "code",
   "execution_count": 66,
   "id": "cca82357-8b43-46d2-98e2-3200168d3341",
   "metadata": {},
   "outputs": [
    {
     "ename": "KeyError",
     "evalue": "0",
     "output_type": "error",
     "traceback": [
      "\u001b[0;31m---------------------------------------------------------------------------\u001b[0m",
      "\u001b[0;31mKeyError\u001b[0m                                  Traceback (most recent call last)",
      "Cell \u001b[0;32mIn[66], line 1\u001b[0m\n\u001b[0;32m----> 1\u001b[0m \u001b[43ms4\u001b[49m\u001b[38;5;241;43m.\u001b[39;49m\u001b[43mremove\u001b[49m\u001b[43m(\u001b[49m\u001b[38;5;241;43m0\u001b[39;49m\u001b[43m)\u001b[49m\n",
      "\u001b[0;31mKeyError\u001b[0m: 0"
     ]
    }
   ],
   "source": [
    "s4.remove(0)"
   ]
  },
  {
   "cell_type": "code",
   "execution_count": 67,
   "id": "223c5e34-a89c-40aa-929c-d652a16979bc",
   "metadata": {},
   "outputs": [],
   "source": [
    "s4.remove(28)"
   ]
  },
  {
   "cell_type": "code",
   "execution_count": 68,
   "id": "4fe5ba00-80b5-49ec-b5fe-0b8f3e9449a3",
   "metadata": {},
   "outputs": [
    {
     "data": {
      "text/plain": [
       "{4, 5, 59, 69, 9, 94, 97, 'Rajib', 'rajib'}"
      ]
     },
     "execution_count": 68,
     "metadata": {},
     "output_type": "execute_result"
    }
   ],
   "source": [
    "s4"
   ]
  },
  {
   "cell_type": "code",
   "execution_count": 69,
   "id": "78b5531f-6b90-41a8-838a-f4c6fda57540",
   "metadata": {},
   "outputs": [],
   "source": [
    "s4.remove(5)"
   ]
  },
  {
   "cell_type": "code",
   "execution_count": 70,
   "id": "64cd1513-0a71-4d9a-b080-f95bac432511",
   "metadata": {},
   "outputs": [
    {
     "data": {
      "text/plain": [
       "{4, 59, 69, 9, 94, 97, 'Rajib', 'rajib'}"
      ]
     },
     "execution_count": 70,
     "metadata": {},
     "output_type": "execute_result"
    }
   ],
   "source": [
    "s4"
   ]
  },
  {
   "cell_type": "code",
   "execution_count": 71,
   "id": "0901080f-0354-48bf-9023-8691205481b5",
   "metadata": {},
   "outputs": [],
   "source": [
    "s = 'pwskills'"
   ]
  },
  {
   "cell_type": "code",
   "execution_count": 72,
   "id": "0adcb927-afc8-4e28-8720-dc42bbefb5ff",
   "metadata": {},
   "outputs": [
    {
     "data": {
      "text/plain": [
       "str"
      ]
     },
     "execution_count": 72,
     "metadata": {},
     "output_type": "execute_result"
    }
   ],
   "source": [
    "type(s)"
   ]
  },
  {
   "cell_type": "code",
   "execution_count": 73,
   "id": "08362011-2f66-4bb8-812a-d2a07e13e07d",
   "metadata": {},
   "outputs": [
    {
     "ename": "TypeError",
     "evalue": "'str' object does not support item assignment",
     "output_type": "error",
     "traceback": [
      "\u001b[0;31m---------------------------------------------------------------------------\u001b[0m",
      "\u001b[0;31mTypeError\u001b[0m                                 Traceback (most recent call last)",
      "Cell \u001b[0;32mIn[73], line 1\u001b[0m\n\u001b[0;32m----> 1\u001b[0m \u001b[38;5;124;43m'\u001b[39;49m\u001b[38;5;124;43mpwskills\u001b[39;49m\u001b[38;5;124;43m'\u001b[39;49m\u001b[43m[\u001b[49m\u001b[38;5;241;43m0\u001b[39;49m\u001b[43m]\u001b[49m \u001b[38;5;241m=\u001b[39m \u001b[38;5;124m'\u001b[39m\u001b[38;5;124mp\u001b[39m\u001b[38;5;124m'\u001b[39m\n",
      "\u001b[0;31mTypeError\u001b[0m: 'str' object does not support item assignment"
     ]
    }
   ],
   "source": [
    "'pwskills'[0] = 'p'"
   ]
  },
  {
   "cell_type": "code",
   "execution_count": 78,
   "id": "e29166b4-6e49-40d0-adec-81bdf6779cc9",
   "metadata": {},
   "outputs": [
    {
     "ename": "NameError",
     "evalue": "name 'rjust' is not defined",
     "output_type": "error",
     "traceback": [
      "\u001b[0;31m---------------------------------------------------------------------------\u001b[0m",
      "\u001b[0;31mNameError\u001b[0m                                 Traceback (most recent call last)",
      "Cell \u001b[0;32mIn[78], line 1\u001b[0m\n\u001b[0;32m----> 1\u001b[0m s \u001b[38;5;241m=\u001b[39m \u001b[43mrjust\u001b[49m(\u001b[38;5;124m'\u001b[39m\u001b[38;5;124mrajib\u001b[39m\u001b[38;5;124m'\u001b[39m)\n",
      "\u001b[0;31mNameError\u001b[0m: name 'rjust' is not defined"
     ]
    }
   ],
   "source": [
    "s = rjust('rajib')"
   ]
  },
  {
   "cell_type": "code",
   "execution_count": 79,
   "id": "f4a14298-0e00-4405-b288-eea787e91ac1",
   "metadata": {},
   "outputs": [],
   "source": [
    "s = \"I want to become a data scientist\""
   ]
  },
  {
   "cell_type": "code",
   "execution_count": 80,
   "id": "5ef13221-46c0-4bb7-a428-d9dbaa5d9e46",
   "metadata": {},
   "outputs": [
    {
     "data": {
      "text/plain": [
       "'I want to become a data scientist'"
      ]
     },
     "execution_count": 80,
     "metadata": {},
     "output_type": "execute_result"
    }
   ],
   "source": [
    "s"
   ]
  },
  {
   "cell_type": "code",
   "execution_count": 83,
   "id": "25eb9131-8ba9-4fe9-ae8b-0377e7ded5b8",
   "metadata": {},
   "outputs": [
    {
     "data": {
      "text/plain": [
       "['I', 'want', 'to', 'become', 'a', 'data', 'scientist']"
      ]
     },
     "execution_count": 83,
     "metadata": {},
     "output_type": "execute_result"
    }
   ],
   "source": [
    "s.split()"
   ]
  },
  {
   "cell_type": "code",
   "execution_count": 84,
   "id": "a42543ed-81eb-4eb1-86da-b525e31c837c",
   "metadata": {},
   "outputs": [
    {
     "data": {
      "text/plain": [
       "'I want to become a data scientist'"
      ]
     },
     "execution_count": 84,
     "metadata": {},
     "output_type": "execute_result"
    }
   ],
   "source": [
    "s.capitalize()"
   ]
  },
  {
   "cell_type": "code",
   "execution_count": 85,
   "id": "70f368f8-a9d9-4589-820d-a3217681c6a7",
   "metadata": {},
   "outputs": [
    {
     "name": "stdout",
     "output_type": "stream",
     "text": [
      "I want to become a data scientist\n"
     ]
    }
   ],
   "source": [
    "print('I want to become a data scientist')"
   ]
  },
  {
   "cell_type": "code",
   "execution_count": 87,
   "id": "08c0b8ee-1627-4526-aaa0-f00fbad7a450",
   "metadata": {},
   "outputs": [],
   "source": [
    "s = 'pwskills'"
   ]
  },
  {
   "cell_type": "code",
   "execution_count": 88,
   "id": "5881615a-3d6b-4e04-91f4-098786778435",
   "metadata": {},
   "outputs": [
    {
     "data": {
      "text/plain": [
       "'pwskills'"
      ]
     },
     "execution_count": 88,
     "metadata": {},
     "output_type": "execute_result"
    }
   ],
   "source": [
    "s"
   ]
  },
  {
   "cell_type": "code",
   "execution_count": 89,
   "id": "71a3c72e-0e74-4a3d-8886-22f1da5e2915",
   "metadata": {},
   "outputs": [
    {
     "data": {
      "text/plain": [
       "'sllikswp'"
      ]
     },
     "execution_count": 89,
     "metadata": {},
     "output_type": "execute_result"
    }
   ],
   "source": [
    "s[::-1]"
   ]
  },
  {
   "cell_type": "code",
   "execution_count": 90,
   "id": "ccc67f57-1b19-4352-b640-86bca988986d",
   "metadata": {},
   "outputs": [
    {
     "data": {
      "text/plain": [
       "'PWSKILLS'"
      ]
     },
     "execution_count": 90,
     "metadata": {},
     "output_type": "execute_result"
    }
   ],
   "source": [
    "s.upper()"
   ]
  },
  {
   "cell_type": "code",
   "execution_count": 91,
   "id": "1d18ea2a-3127-40f7-b533-7016e55a6de0",
   "metadata": {},
   "outputs": [
    {
     "ename": "SyntaxError",
     "evalue": "unterminated string literal (detected at line 1) (3146565326.py, line 1)",
     "output_type": "error",
     "traceback": [
      "\u001b[0;36m  Cell \u001b[0;32mIn[91], line 1\u001b[0;36m\u001b[0m\n\u001b[0;31m    s.replace('SLLIKSWP,'pwskills')\u001b[0m\n\u001b[0m                                 ^\u001b[0m\n\u001b[0;31mSyntaxError\u001b[0m\u001b[0;31m:\u001b[0m unterminated string literal (detected at line 1)\n"
     ]
    }
   ],
   "source": [
    "s.replace('SLLIKSWP,'pwskills')"
   ]
  },
  {
   "cell_type": "code",
   "execution_count": 92,
   "id": "82c928ed-20dc-4190-91cf-1e8efa945d1b",
   "metadata": {},
   "outputs": [
    {
     "data": {
      "text/plain": [
       "'pwskills'"
      ]
     },
     "execution_count": 92,
     "metadata": {},
     "output_type": "execute_result"
    }
   ],
   "source": [
    "s.lower()"
   ]
  },
  {
   "cell_type": "code",
   "execution_count": 93,
   "id": "96198327-3d28-41dc-9d9f-1ce1d27ce6d0",
   "metadata": {},
   "outputs": [],
   "source": [
    "s = \"p w s k i l l s\""
   ]
  },
  {
   "cell_type": "code",
   "execution_count": 94,
   "id": "809ea9c0-153a-4dbd-b2a2-a5c0f6a94149",
   "metadata": {},
   "outputs": [
    {
     "data": {
      "text/plain": [
       "'p w s k i l l s'"
      ]
     },
     "execution_count": 94,
     "metadata": {},
     "output_type": "execute_result"
    }
   ],
   "source": [
    "s"
   ]
  },
  {
   "cell_type": "code",
   "execution_count": 95,
   "id": "cd75676d-14d8-440f-b807-0231a34ebad9",
   "metadata": {},
   "outputs": [
    {
     "name": "stderr",
     "output_type": "stream",
     "text": [
      "<>:1: SyntaxWarning: 'str' object is not callable; perhaps you missed a comma?\n",
      "<>:1: SyntaxWarning: 'str' object is not callable; perhaps you missed a comma?\n",
      "/tmp/ipykernel_123/1446892969.py:1: SyntaxWarning: 'str' object is not callable; perhaps you missed a comma?\n",
      "  \"s\"(str.replace(\"s\",\"s\"))\n",
      "/tmp/ipykernel_123/1446892969.py:1: SyntaxWarning: 'str' object is not callable; perhaps you missed a comma?\n",
      "  \"s\"(str.replace(\"s\",\"s\"))\n",
      "/tmp/ipykernel_123/1446892969.py:1: SyntaxWarning: 'str' object is not callable; perhaps you missed a comma?\n",
      "  \"s\"(str.replace(\"s\",\"s\"))\n",
      "/tmp/ipykernel_123/1446892969.py:1: SyntaxWarning: 'str' object is not callable; perhaps you missed a comma?\n",
      "  \"s\"(str.replace(\"s\",\"s\"))\n"
     ]
    },
    {
     "ename": "TypeError",
     "evalue": "replace expected at least 2 arguments, got 1",
     "output_type": "error",
     "traceback": [
      "\u001b[0;31m---------------------------------------------------------------------------\u001b[0m",
      "\u001b[0;31mTypeError\u001b[0m                                 Traceback (most recent call last)",
      "Cell \u001b[0;32mIn[95], line 1\u001b[0m\n\u001b[0;32m----> 1\u001b[0m \u001b[38;5;124m\"\u001b[39m\u001b[38;5;124ms\u001b[39m\u001b[38;5;124m\"\u001b[39m(\u001b[38;5;28;43mstr\u001b[39;49m\u001b[38;5;241;43m.\u001b[39;49m\u001b[43mreplace\u001b[49m\u001b[43m(\u001b[49m\u001b[38;5;124;43m\"\u001b[39;49m\u001b[38;5;124;43ms\u001b[39;49m\u001b[38;5;124;43m\"\u001b[39;49m\u001b[43m,\u001b[49m\u001b[38;5;124;43m\"\u001b[39;49m\u001b[38;5;124;43ms\u001b[39;49m\u001b[38;5;124;43m\"\u001b[39;49m\u001b[43m)\u001b[49m)\n",
      "\u001b[0;31mTypeError\u001b[0m: replace expected at least 2 arguments, got 1"
     ]
    }
   ],
   "source": [
    "\"s\"(str.replace(\"s\",\"s\"))"
   ]
  },
  {
   "cell_type": "code",
   "execution_count": 96,
   "id": "eb966fe9-b2f8-46a6-b179-90fbeddc4734",
   "metadata": {},
   "outputs": [
    {
     "data": {
      "text/plain": [
       "'p w s k i l l s'"
      ]
     },
     "execution_count": 96,
     "metadata": {},
     "output_type": "execute_result"
    }
   ],
   "source": [
    "s"
   ]
  },
  {
   "cell_type": "code",
   "execution_count": 97,
   "id": "91e56fcd-b8b0-41ec-8a77-00130a8fac3d",
   "metadata": {},
   "outputs": [],
   "source": [
    "s = \"I want to become a data scientist\""
   ]
  },
  {
   "cell_type": "code",
   "execution_count": 98,
   "id": "41c1a404-0e4c-4daf-aaae-c644cc641ba2",
   "metadata": {},
   "outputs": [
    {
     "data": {
      "text/plain": [
       "'I want to become a data scientist'"
      ]
     },
     "execution_count": 98,
     "metadata": {},
     "output_type": "execute_result"
    }
   ],
   "source": [
    "s"
   ]
  },
  {
   "cell_type": "code",
   "execution_count": 99,
   "id": "ad26c9e0-f025-44f6-a745-2c0608983703",
   "metadata": {},
   "outputs": [
    {
     "data": {
      "text/plain": [
       "'I want to become a data scientist'"
      ]
     },
     "execution_count": 99,
     "metadata": {},
     "output_type": "execute_result"
    }
   ],
   "source": [
    "s.format()"
   ]
  },
  {
   "cell_type": "code",
   "execution_count": 100,
   "id": "74cf9c4e-8539-47db-bc59-f02cf04fbb4d",
   "metadata": {},
   "outputs": [
    {
     "ename": "SyntaxError",
     "evalue": "invalid syntax (857421469.py, line 1)",
     "output_type": "error",
     "traceback": [
      "\u001b[0;36m  Cell \u001b[0;32mIn[100], line 1\u001b[0;36m\u001b[0m\n\u001b[0;31m    f str()\u001b[0m\n\u001b[0m      ^\u001b[0m\n\u001b[0;31mSyntaxError\u001b[0m\u001b[0;31m:\u001b[0m invalid syntax\n"
     ]
    }
   ],
   "source": [
    "f str()"
   ]
  },
  {
   "cell_type": "code",
   "execution_count": 102,
   "id": "61bdf790-fbae-4255-ae3a-8889c05b5d14",
   "metadata": {},
   "outputs": [
    {
     "data": {
      "text/plain": [
       "'I want to become a data scientist'"
      ]
     },
     "execution_count": 102,
     "metadata": {},
     "output_type": "execute_result"
    }
   ],
   "source": [
    "f'I want to become a data scientist'"
   ]
  },
  {
   "cell_type": "code",
   "execution_count": 103,
   "id": "a01d082b-129b-477f-803c-0ee6016fd908",
   "metadata": {},
   "outputs": [
    {
     "ename": "ZeroDivisionError",
     "evalue": "division by zero",
     "output_type": "error",
     "traceback": [
      "\u001b[0;31m---------------------------------------------------------------------------\u001b[0m",
      "\u001b[0;31mZeroDivisionError\u001b[0m                         Traceback (most recent call last)",
      "Cell \u001b[0;32mIn[103], line 1\u001b[0m\n\u001b[0;32m----> 1\u001b[0m \u001b[38;5;241;43m1\u001b[39;49m\u001b[38;5;241;43m/\u001b[39;49m\u001b[38;5;28;43;01mFalse\u001b[39;49;00m\n",
      "\u001b[0;31mZeroDivisionError\u001b[0m: division by zero"
     ]
    }
   ],
   "source": [
    "1/False"
   ]
  },
  {
   "cell_type": "code",
   "execution_count": 104,
   "id": "07fc5097-185e-46fc-a57d-f48c16c1f3da",
   "metadata": {},
   "outputs": [],
   "source": [
    "num1 = 23"
   ]
  },
  {
   "cell_type": "code",
   "execution_count": 105,
   "id": "0ad2d148-cf8f-44c0-85db-1a4661a09716",
   "metadata": {},
   "outputs": [],
   "source": [
    "num2 = 44"
   ]
  },
  {
   "cell_type": "code",
   "execution_count": 106,
   "id": "afa807ab-3b3a-4507-a47f-5b7bd1adaa27",
   "metadata": {},
   "outputs": [
    {
     "data": {
      "text/plain": [
       "23"
      ]
     },
     "execution_count": 106,
     "metadata": {},
     "output_type": "execute_result"
    }
   ],
   "source": [
    "num1"
   ]
  },
  {
   "cell_type": "code",
   "execution_count": 107,
   "id": "e964efde-e538-49e3-8d07-dfbd879e709b",
   "metadata": {},
   "outputs": [
    {
     "data": {
      "text/plain": [
       "21"
      ]
     },
     "execution_count": 107,
     "metadata": {},
     "output_type": "execute_result"
    }
   ],
   "source": [
    "num2-num1"
   ]
  },
  {
   "cell_type": "code",
   "execution_count": 108,
   "id": "ee0cde8c-31cb-476e-8002-de2a36e8d0b3",
   "metadata": {},
   "outputs": [],
   "source": [
    "num2 = 2+3j"
   ]
  },
  {
   "cell_type": "code",
   "execution_count": 109,
   "id": "b18cb4e6-a5f2-405f-967b-4d9dd5a4e924",
   "metadata": {},
   "outputs": [],
   "source": [
    "num1 = num2.imag"
   ]
  },
  {
   "cell_type": "code",
   "execution_count": 110,
   "id": "2326ecfa-0e52-4314-be10-13507d363f0d",
   "metadata": {},
   "outputs": [
    {
     "data": {
      "text/plain": [
       "(-1+3j)"
      ]
     },
     "execution_count": 110,
     "metadata": {},
     "output_type": "execute_result"
    }
   ],
   "source": [
    "num2-num1"
   ]
  },
  {
   "cell_type": "code",
   "execution_count": 112,
   "id": "943aad19-a1c9-47ee-93e9-c507fddc0ee0",
   "metadata": {},
   "outputs": [
    {
     "ename": "ValueError",
     "evalue": "invalid literal for int() with base 10: 'pwskills'",
     "output_type": "error",
     "traceback": [
      "\u001b[0;31m---------------------------------------------------------------------------\u001b[0m",
      "\u001b[0;31mValueError\u001b[0m                                Traceback (most recent call last)",
      "Cell \u001b[0;32mIn[112], line 1\u001b[0m\n\u001b[0;32m----> 1\u001b[0m \u001b[38;5;28;43mint\u001b[39;49m\u001b[43m(\u001b[49m\u001b[38;5;124;43m'\u001b[39;49m\u001b[38;5;124;43mpwskills\u001b[39;49m\u001b[38;5;124;43m'\u001b[39;49m\u001b[43m)\u001b[49m \u001b[38;5;241m+\u001b[39m l\n",
      "\u001b[0;31mValueError\u001b[0m: invalid literal for int() with base 10: 'pwskills'"
     ]
    }
   ],
   "source": [
    "int('pwskills') + l"
   ]
  },
  {
   "cell_type": "code",
   "execution_count": 114,
   "id": "a3961848-cb95-463b-a53a-f323c683247a",
   "metadata": {},
   "outputs": [
    {
     "ename": "NameError",
     "evalue": "name 'l' is not defined",
     "output_type": "error",
     "traceback": [
      "\u001b[0;31m---------------------------------------------------------------------------\u001b[0m",
      "\u001b[0;31mNameError\u001b[0m                                 Traceback (most recent call last)",
      "Cell \u001b[0;32mIn[114], line 1\u001b[0m\n\u001b[0;32m----> 1\u001b[0m \u001b[38;5;124m'\u001b[39m\u001b[38;5;124mpwskills\u001b[39m\u001b[38;5;124m'\u001b[39m \u001b[38;5;241m+\u001b[39m \u001b[38;5;28mtype\u001b[39m(\u001b[43ml\u001b[49m)\n",
      "\u001b[0;31mNameError\u001b[0m: name 'l' is not defined"
     ]
    }
   ],
   "source": [
    "'pwskills' + type(l)"
   ]
  },
  {
   "cell_type": "code",
   "execution_count": 115,
   "id": "aabeac25-d2a9-4d6e-9b2a-1821513b1d25",
   "metadata": {},
   "outputs": [
    {
     "data": {
      "text/plain": [
       "'pwskills1'"
      ]
     },
     "execution_count": 115,
     "metadata": {},
     "output_type": "execute_result"
    }
   ],
   "source": [
    "'pwskills' + str(1)"
   ]
  },
  {
   "cell_type": "code",
   "execution_count": 117,
   "id": "4d8c2382-c011-4903-94d3-5249818ef884",
   "metadata": {},
   "outputs": [
    {
     "ename": "ValueError",
     "evalue": "invalid literal for int() with base 10: 'pwskills'",
     "output_type": "error",
     "traceback": [
      "\u001b[0;31m---------------------------------------------------------------------------\u001b[0m",
      "\u001b[0;31mValueError\u001b[0m                                Traceback (most recent call last)",
      "Cell \u001b[0;32mIn[117], line 1\u001b[0m\n\u001b[0;32m----> 1\u001b[0m \u001b[38;5;28;43mint\u001b[39;49m\u001b[43m(\u001b[49m\u001b[38;5;124;43m'\u001b[39;49m\u001b[38;5;124;43mpwskills\u001b[39;49m\u001b[38;5;124;43m'\u001b[39;49m\u001b[43m)\u001b[49m \u001b[38;5;241m+\u001b[39m \u001b[38;5;28mint\u001b[39m(\u001b[38;5;241m1\u001b[39m)\n",
      "\u001b[0;31mValueError\u001b[0m: invalid literal for int() with base 10: 'pwskills'"
     ]
    }
   ],
   "source": [
    "int('pwskills') + int(1)"
   ]
  },
  {
   "cell_type": "code",
   "execution_count": 118,
   "id": "fa4ae260-8bc7-4bd9-aff2-a6ae28bf1e71",
   "metadata": {},
   "outputs": [
    {
     "ename": "NameError",
     "evalue": "name '_num' is not defined",
     "output_type": "error",
     "traceback": [
      "\u001b[0;31m---------------------------------------------------------------------------\u001b[0m",
      "\u001b[0;31mNameError\u001b[0m                                 Traceback (most recent call last)",
      "Cell \u001b[0;32mIn[118], line 1\u001b[0m\n\u001b[0;32m----> 1\u001b[0m a \u001b[38;5;241m=\u001b[39m \u001b[38;5;241m20\u001b[39m\u001b[38;5;241m%\u001b[39m\u001b[43m_num\u001b[49m\n",
      "\u001b[0;31mNameError\u001b[0m: name '_num' is not defined"
     ]
    }
   ],
   "source": [
    "a = 20%_num"
   ]
  },
  {
   "cell_type": "code",
   "execution_count": 119,
   "id": "7df4a947-5223-4f43-bab6-62b1f3e826ca",
   "metadata": {},
   "outputs": [
    {
     "ename": "NameError",
     "evalue": "name 'Num_100' is not defined",
     "output_type": "error",
     "traceback": [
      "\u001b[0;31m---------------------------------------------------------------------------\u001b[0m",
      "\u001b[0;31mNameError\u001b[0m                                 Traceback (most recent call last)",
      "Cell \u001b[0;32mIn[119], line 1\u001b[0m\n\u001b[0;32m----> 1\u001b[0m a \u001b[38;5;241m=\u001b[39m \u001b[43mNum_100\u001b[49m\n",
      "\u001b[0;31mNameError\u001b[0m: name 'Num_100' is not defined"
     ]
    }
   ],
   "source": [
    "a = Num_100"
   ]
  },
  {
   "cell_type": "code",
   "execution_count": 121,
   "id": "9cf1a9b2-4306-461d-be17-13c6585368ce",
   "metadata": {},
   "outputs": [
    {
     "ename": "NameError",
     "evalue": "name 'Pw' is not defined",
     "output_type": "error",
     "traceback": [
      "\u001b[0;31m---------------------------------------------------------------------------\u001b[0m",
      "\u001b[0;31mNameError\u001b[0m                                 Traceback (most recent call last)",
      "Cell \u001b[0;32mIn[121], line 1\u001b[0m\n\u001b[0;32m----> 1\u001b[0m a \u001b[38;5;241m=\u001b[39m \u001b[43mPw\u001b[49m\u001b[38;5;241m-\u001b[39mskills\n",
      "\u001b[0;31mNameError\u001b[0m: name 'Pw' is not defined"
     ]
    }
   ],
   "source": [
    "a = Pw-skills"
   ]
  },
  {
   "cell_type": "code",
   "execution_count": 122,
   "id": "092a4efd-7656-446e-b9ae-91fff8636509",
   "metadata": {},
   "outputs": [
    {
     "ename": "NameError",
     "evalue": "name '_pw_skills' is not defined",
     "output_type": "error",
     "traceback": [
      "\u001b[0;31m---------------------------------------------------------------------------\u001b[0m",
      "\u001b[0;31mNameError\u001b[0m                                 Traceback (most recent call last)",
      "Cell \u001b[0;32mIn[122], line 1\u001b[0m\n\u001b[0;32m----> 1\u001b[0m a \u001b[38;5;241m=\u001b[39m \u001b[43m_pw_skills\u001b[49m\n",
      "\u001b[0;31mNameError\u001b[0m: name '_pw_skills' is not defined"
     ]
    }
   ],
   "source": [
    "a = _pw_skills"
   ]
  },
  {
   "cell_type": "code",
   "execution_count": 123,
   "id": "1d5a258e-e27a-42db-84e7-e270366d375d",
   "metadata": {},
   "outputs": [],
   "source": [
    "Name = 'pwskills'"
   ]
  },
  {
   "cell_type": "code",
   "execution_count": 124,
   "id": "ac11202e-6fdf-43eb-978c-6792e72a4f4a",
   "metadata": {},
   "outputs": [
    {
     "data": {
      "text/plain": [
       "'p'"
      ]
     },
     "execution_count": 124,
     "metadata": {},
     "output_type": "execute_result"
    }
   ],
   "source": [
    "Name[0]"
   ]
  },
  {
   "cell_type": "code",
   "execution_count": 125,
   "id": "0587ab0b-beb1-41e9-98a5-7f85d1774a47",
   "metadata": {},
   "outputs": [],
   "source": [
    "a = 'pwskills'"
   ]
  },
  {
   "cell_type": "code",
   "execution_count": 126,
   "id": "9b9e697b-d28d-4de0-89d8-0d3c4a6fc455",
   "metadata": {},
   "outputs": [
    {
     "data": {
      "text/plain": [
       "True"
      ]
     },
     "execution_count": 126,
     "metadata": {},
     "output_type": "execute_result"
    }
   ],
   "source": [
    "a.isalnum()"
   ]
  },
  {
   "cell_type": "code",
   "execution_count": 127,
   "id": "0f395158-86ee-4e1c-94f8-bd4b13834d84",
   "metadata": {},
   "outputs": [
    {
     "data": {
      "text/plain": [
       "'PWSKILLS'"
      ]
     },
     "execution_count": 127,
     "metadata": {},
     "output_type": "execute_result"
    }
   ],
   "source": [
    "a.upper()"
   ]
  },
  {
   "cell_type": "code",
   "execution_count": 130,
   "id": "ade779c8-f377-41b5-a8be-d0241f43c822",
   "metadata": {},
   "outputs": [],
   "source": [
    "_ = 5"
   ]
  },
  {
   "cell_type": "code",
   "execution_count": 131,
   "id": "efbe41e0-9d95-4eca-b228-419389312604",
   "metadata": {},
   "outputs": [
    {
     "data": {
      "text/plain": [
       "5"
      ]
     },
     "execution_count": 131,
     "metadata": {},
     "output_type": "execute_result"
    }
   ],
   "source": [
    "_"
   ]
  },
  {
   "cell_type": "code",
   "execution_count": 133,
   "id": "c9fe7e14-6fc4-41e2-bf14-6859433587e4",
   "metadata": {},
   "outputs": [],
   "source": [
    "Num_100 = a"
   ]
  },
  {
   "cell_type": "code",
   "execution_count": 134,
   "id": "93e5c025-99bf-452f-bc67-5673551244b5",
   "metadata": {},
   "outputs": [],
   "source": [
    "a = 'aggag'"
   ]
  },
  {
   "cell_type": "code",
   "execution_count": 135,
   "id": "bd480549-e23c-4974-93ba-d443f610d054",
   "metadata": {},
   "outputs": [],
   "source": [
    "b= 'asgg'"
   ]
  },
  {
   "cell_type": "code",
   "execution_count": 136,
   "id": "c7bba6ba-5199-476f-98f9-e7ffa022a04f",
   "metadata": {},
   "outputs": [
    {
     "ename": "TypeError",
     "evalue": "can't multiply sequence by non-int of type 'str'",
     "output_type": "error",
     "traceback": [
      "\u001b[0;31m---------------------------------------------------------------------------\u001b[0m",
      "\u001b[0;31mTypeError\u001b[0m                                 Traceback (most recent call last)",
      "Cell \u001b[0;32mIn[136], line 1\u001b[0m\n\u001b[0;32m----> 1\u001b[0m \u001b[43ma\u001b[49m\u001b[38;5;241;43m*\u001b[39;49m\u001b[43mb\u001b[49m\n",
      "\u001b[0;31mTypeError\u001b[0m: can't multiply sequence by non-int of type 'str'"
     ]
    }
   ],
   "source": [
    "a*b"
   ]
  },
  {
   "cell_type": "code",
   "execution_count": 137,
   "id": "69b34992-1f23-40a0-82bd-10fadb42c2c9",
   "metadata": {},
   "outputs": [
    {
     "ename": "TypeError",
     "evalue": "unsupported operand type(s) for /: 'str' and 'str'",
     "output_type": "error",
     "traceback": [
      "\u001b[0;31m---------------------------------------------------------------------------\u001b[0m",
      "\u001b[0;31mTypeError\u001b[0m                                 Traceback (most recent call last)",
      "Cell \u001b[0;32mIn[137], line 1\u001b[0m\n\u001b[0;32m----> 1\u001b[0m \u001b[43ma\u001b[49m\u001b[38;5;241;43m/\u001b[39;49m\u001b[43mb\u001b[49m\n",
      "\u001b[0;31mTypeError\u001b[0m: unsupported operand type(s) for /: 'str' and 'str'"
     ]
    }
   ],
   "source": [
    "a/b"
   ]
  },
  {
   "cell_type": "code",
   "execution_count": 138,
   "id": "de06fa01-bf72-4825-88e2-9ed0b5d88647",
   "metadata": {},
   "outputs": [
    {
     "data": {
      "text/plain": [
       "'aggagasgg'"
      ]
     },
     "execution_count": 138,
     "metadata": {},
     "output_type": "execute_result"
    }
   ],
   "source": [
    "a+b"
   ]
  },
  {
   "cell_type": "code",
   "execution_count": 139,
   "id": "f703b310-0c2a-4224-956d-5b6ce7820fd5",
   "metadata": {},
   "outputs": [
    {
     "ename": "ZeroDivisionError",
     "evalue": "division by zero",
     "output_type": "error",
     "traceback": [
      "\u001b[0;31m---------------------------------------------------------------------------\u001b[0m",
      "\u001b[0;31mZeroDivisionError\u001b[0m                         Traceback (most recent call last)",
      "Cell \u001b[0;32mIn[139], line 1\u001b[0m\n\u001b[0;32m----> 1\u001b[0m \u001b[38;5;28;43;01mTrue\u001b[39;49;00m\u001b[38;5;241;43m/\u001b[39;49m\u001b[38;5;28;43;01mFalse\u001b[39;49;00m\n",
      "\u001b[0;31mZeroDivisionError\u001b[0m: division by zero"
     ]
    }
   ],
   "source": [
    "True/False"
   ]
  },
  {
   "cell_type": "code",
   "execution_count": 140,
   "id": "f59bd268-e704-49f3-a501-1ec57f43477a",
   "metadata": {},
   "outputs": [],
   "source": [
    "a = 'pwskills'"
   ]
  },
  {
   "cell_type": "code",
   "execution_count": 141,
   "id": "6a3f454d-c111-47ac-8f7b-1d849041fea8",
   "metadata": {},
   "outputs": [
    {
     "data": {
      "text/plain": [
       "'PWSKILLS'"
      ]
     },
     "execution_count": 141,
     "metadata": {},
     "output_type": "execute_result"
    }
   ],
   "source": [
    "a.upper()"
   ]
  },
  {
   "cell_type": "code",
   "execution_count": 142,
   "id": "c6551a00-a8d5-495c-9f64-f6a3b66174c4",
   "metadata": {},
   "outputs": [
    {
     "data": {
      "text/plain": [
       "'pwskills'"
      ]
     },
     "execution_count": 142,
     "metadata": {},
     "output_type": "execute_result"
    }
   ],
   "source": [
    "a.lower()"
   ]
  },
  {
   "cell_type": "code",
   "execution_count": 143,
   "id": "89d1ba53-7c50-430b-a7e2-f44d547627ab",
   "metadata": {},
   "outputs": [
    {
     "data": {
      "text/plain": [
       "False"
      ]
     },
     "execution_count": 143,
     "metadata": {},
     "output_type": "execute_result"
    }
   ],
   "source": [
    "a.isupper()"
   ]
  },
  {
   "cell_type": "code",
   "execution_count": 145,
   "id": "9d407a8d-956a-4e35-b278-c0d2396d2577",
   "metadata": {},
   "outputs": [
    {
     "ename": "NameError",
     "evalue": "name 'l' is not defined",
     "output_type": "error",
     "traceback": [
      "\u001b[0;31m---------------------------------------------------------------------------\u001b[0m",
      "\u001b[0;31mNameError\u001b[0m                                 Traceback (most recent call last)",
      "Cell \u001b[0;32mIn[145], line 4\u001b[0m\n\u001b[1;32m      2\u001b[0m x \u001b[38;5;241m=\u001b[39m [\u001b[38;5;124m'\u001b[39m\u001b[38;5;124mpythin\u001b[39m\u001b[38;5;124m'\u001b[39m, \u001b[38;5;124m'\u001b[39m\u001b[38;5;124mpwskills\u001b[39m\u001b[38;5;124m'\u001b[39m,\u001b[38;5;124m'\u001b[39m\u001b[38;5;124mrsjib\u001b[39m\u001b[38;5;124m'\u001b[39m]\n\u001b[1;32m      3\u001b[0m \u001b[38;5;28;01mfor\u001b[39;00m i \u001b[38;5;129;01min\u001b[39;00m x:\n\u001b[0;32m----> 4\u001b[0m     \u001b[38;5;28mprint\u001b[39m(\u001b[43ml\u001b[49m)\n",
      "\u001b[0;31mNameError\u001b[0m: name 'l' is not defined"
     ]
    }
   ],
   "source": [
    "#literate through a list \n",
    "x = ['pythin', 'pwskills','rsjib']\n",
    "for i in x:\n",
    "    print(l)"
   ]
  },
  {
   "cell_type": "code",
   "execution_count": 146,
   "id": "42e05d5a-2176-4f5b-a5b5-2f25d8960043",
   "metadata": {},
   "outputs": [],
   "source": [
    "course = ['Data Science','ML','Data Science masters','DL']"
   ]
  },
  {
   "cell_type": "code",
   "execution_count": 149,
   "id": "0047be42-6eba-4ee7-b51d-acf3b2884cc1",
   "metadata": {},
   "outputs": [
    {
     "data": {
      "text/plain": [
       "4"
      ]
     },
     "execution_count": 149,
     "metadata": {},
     "output_type": "execute_result"
    }
   ],
   "source": [
    "len(course)"
   ]
  },
  {
   "cell_type": "code",
   "execution_count": 151,
   "id": "a7dc92b8-562f-4d14-bb3b-f70e925b4660",
   "metadata": {},
   "outputs": [
    {
     "name": "stdout",
     "output_type": "stream",
     "text": [
      "PwSkills\n"
     ]
    }
   ],
   "source": [
    "print('PwSkills')"
   ]
  },
  {
   "cell_type": "code",
   "execution_count": 154,
   "id": "70383d1e-be42-4a62-ae58-e3a892b3f452",
   "metadata": {},
   "outputs": [],
   "source": [
    "s = \"p w s k i l l s\""
   ]
  },
  {
   "cell_type": "code",
   "execution_count": 155,
   "id": "df5ced1d-b8d6-48bd-aa45-4e87fcd6eade",
   "metadata": {},
   "outputs": [
    {
     "data": {
      "text/plain": [
       "'p w s k i l l s'"
      ]
     },
     "execution_count": 155,
     "metadata": {},
     "output_type": "execute_result"
    }
   ],
   "source": [
    "s"
   ]
  },
  {
   "cell_type": "code",
   "execution_count": 156,
   "id": "96981cfc-e4e2-4b71-b204-8c0b87bd5fbd",
   "metadata": {},
   "outputs": [
    {
     "data": {
      "text/plain": [
       "'pp w s k i l l swp w s k i l l ssp w s k i l l skp w s k i l l sip w s k i l l slp w s k i l l slp w s k i l l ss'"
      ]
     },
     "execution_count": 156,
     "metadata": {},
     "output_type": "execute_result"
    }
   ],
   "source": [
    "s.join(s.replace(\" \",\"\"))"
   ]
  },
  {
   "cell_type": "code",
   "execution_count": 157,
   "id": "af42806b-a466-4feb-a2d1-6bc86a28531b",
   "metadata": {},
   "outputs": [
    {
     "ename": "TypeError",
     "evalue": "str.join() takes exactly one argument (0 given)",
     "output_type": "error",
     "traceback": [
      "\u001b[0;31m---------------------------------------------------------------------------\u001b[0m",
      "\u001b[0;31mTypeError\u001b[0m                                 Traceback (most recent call last)",
      "Cell \u001b[0;32mIn[157], line 1\u001b[0m\n\u001b[0;32m----> 1\u001b[0m \u001b[43ms\u001b[49m\u001b[38;5;241;43m.\u001b[39;49m\u001b[43mjoin\u001b[49m\u001b[43m(\u001b[49m\u001b[43m)\u001b[49m\n",
      "\u001b[0;31mTypeError\u001b[0m: str.join() takes exactly one argument (0 given)"
     ]
    }
   ],
   "source": [
    "s.join()"
   ]
  },
  {
   "cell_type": "code",
   "execution_count": 158,
   "id": "1dfc7a1f-77fe-4332-a8a8-105760419624",
   "metadata": {},
   "outputs": [],
   "source": [
    "s = 'pdh'"
   ]
  },
  {
   "cell_type": "code",
   "execution_count": 159,
   "id": "ef8bca07-e82d-4eb6-866e-a0073f1fb855",
   "metadata": {},
   "outputs": [],
   "source": [
    "d = 'dff'"
   ]
  },
  {
   "cell_type": "code",
   "execution_count": 160,
   "id": "ab4108e0-2b86-4bdf-8bb6-70e11ee57ceb",
   "metadata": {},
   "outputs": [
    {
     "data": {
      "text/plain": [
       "'dpdhfpdhf'"
      ]
     },
     "execution_count": 160,
     "metadata": {},
     "output_type": "execute_result"
    }
   ],
   "source": [
    "s.join(d)"
   ]
  },
  {
   "cell_type": "code",
   "execution_count": 161,
   "id": "ceca2351-fd3d-4b5f-87bc-c2f7610b778f",
   "metadata": {},
   "outputs": [
    {
     "data": {
      "text/plain": [
       "'hdp'"
      ]
     },
     "execution_count": 161,
     "metadata": {},
     "output_type": "execute_result"
    }
   ],
   "source": [
    "s[::-1]"
   ]
  },
  {
   "cell_type": "code",
   "execution_count": 162,
   "id": "419fa914-f708-45ef-bf25-9582fc805668",
   "metadata": {},
   "outputs": [],
   "source": [
    "s='pwskills'"
   ]
  },
  {
   "cell_type": "code",
   "execution_count": 163,
   "id": "3a80d998-0fe6-4754-b541-e8ff4767658b",
   "metadata": {},
   "outputs": [
    {
     "data": {
      "text/plain": [
       "'sllikswp'"
      ]
     },
     "execution_count": 163,
     "metadata": {},
     "output_type": "execute_result"
    }
   ],
   "source": [
    "s[::-1]"
   ]
  },
  {
   "cell_type": "code",
   "execution_count": 164,
   "id": "eed875a0-1bfe-4faa-8149-87bc6a008f43",
   "metadata": {},
   "outputs": [
    {
     "data": {
      "text/plain": [
       "'PWSKILLS'"
      ]
     },
     "execution_count": 164,
     "metadata": {},
     "output_type": "execute_result"
    }
   ],
   "source": [
    "s.upper()"
   ]
  },
  {
   "cell_type": "code",
   "execution_count": 165,
   "id": "18c0f4b6-1ae3-4874-bb3b-7547691c0666",
   "metadata": {},
   "outputs": [
    {
     "data": {
      "text/plain": [
       "'pwskills'"
      ]
     },
     "execution_count": 165,
     "metadata": {},
     "output_type": "execute_result"
    }
   ],
   "source": [
    "s.replace('SLLIKSWP','pwskills')"
   ]
  },
  {
   "cell_type": "code",
   "execution_count": 167,
   "id": "7d89a273-44ea-49b3-b380-1d2319511fa3",
   "metadata": {},
   "outputs": [
    {
     "data": {
      "text/plain": [
       "True"
      ]
     },
     "execution_count": 167,
     "metadata": {},
     "output_type": "execute_result"
    }
   ],
   "source": [
    "s.islower()"
   ]
  },
  {
   "cell_type": "code",
   "execution_count": 168,
   "id": "c64cc57d-c1d4-402f-a33c-de96bc86b269",
   "metadata": {},
   "outputs": [],
   "source": [
    "s = \"I want to become a data scientist\""
   ]
  },
  {
   "cell_type": "code",
   "execution_count": 169,
   "id": "ac0b1baa-21a4-470e-8bc0-14fc11234ebf",
   "metadata": {},
   "outputs": [
    {
     "data": {
      "text/plain": [
       "['I', 'want', 'to', 'become', 'a', 'data', 'scientist']"
      ]
     },
     "execution_count": 169,
     "metadata": {},
     "output_type": "execute_result"
    }
   ],
   "source": [
    "s.split()"
   ]
  },
  {
   "cell_type": "code",
   "execution_count": 170,
   "id": "bebca750-7ee5-47ae-aa26-e1ba53636241",
   "metadata": {},
   "outputs": [
    {
     "data": {
      "text/plain": [
       "'I want to become a data scientist'"
      ]
     },
     "execution_count": 170,
     "metadata": {},
     "output_type": "execute_result"
    }
   ],
   "source": [
    "s.capitalize()"
   ]
  },
  {
   "cell_type": "code",
   "execution_count": 171,
   "id": "a9874ba7-474e-40cf-a579-b72d067dcc00",
   "metadata": {},
   "outputs": [
    {
     "name": "stdout",
     "output_type": "stream",
     "text": [
      "I Want To Become A Data Scientist\n"
     ]
    }
   ],
   "source": [
    "print(s.title())"
   ]
  },
  {
   "cell_type": "code",
   "execution_count": null,
   "id": "a3c1eced-d67f-4eea-ba86-50f9a3c88545",
   "metadata": {},
   "outputs": [],
   "source": [
    "s."
   ]
  }
 ],
 "metadata": {
  "kernelspec": {
   "display_name": "Python 3 (ipykernel)",
   "language": "python",
   "name": "python3"
  },
  "language_info": {
   "codemirror_mode": {
    "name": "ipython",
    "version": 3
   },
   "file_extension": ".py",
   "mimetype": "text/x-python",
   "name": "python",
   "nbconvert_exporter": "python",
   "pygments_lexer": "ipython3",
   "version": "3.10.8"
  }
 },
 "nbformat": 4,
 "nbformat_minor": 5
}
